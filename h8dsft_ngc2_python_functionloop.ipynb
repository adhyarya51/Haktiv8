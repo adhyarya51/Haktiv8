{
 "cells": [
  {
   "cell_type": "markdown",
   "metadata": {},
   "source": [
    "Task #1 number of word"
   ]
  },
  {
   "cell_type": "code",
   "execution_count": 4,
   "metadata": {},
   "outputs": [
    {
     "name": "stdout",
     "output_type": "stream",
     "text": [
      "the originial string is :percobaan kata pusing\n",
      "jumlah kata di string adalah :3\n"
     ]
    }
   ],
   "source": [
    "#cara hitung kata menggunakan split()\n",
    "\n",
    "test_string = \"percobaan kata pusing\"\n",
    "#ngeprint original string\n",
    "print(\"the originial string is :\" + test_string)\n",
    "\n",
    "#using split()\n",
    "#menghitung kata didalam string\n",
    "\n",
    "res = len(test_string.split())\n",
    "\n",
    "#hasil print\n",
    "print(\"jumlah kata di string adalah :\" + str(res))"
   ]
  },
  {
   "cell_type": "markdown",
   "metadata": {},
   "source": [
    "Task #2 find multiple"
   ]
  },
  {
   "cell_type": "code",
   "execution_count": null,
   "metadata": {},
   "outputs": [],
   "source": [
    "find_multiple(start_range= 1,)"
   ]
  }
 ],
 "metadata": {
  "kernelspec": {
   "display_name": "base",
   "language": "python",
   "name": "python3"
  },
  "language_info": {
   "codemirror_mode": {
    "name": "ipython",
    "version": 3
   },
   "file_extension": ".py",
   "mimetype": "text/x-python",
   "name": "python",
   "nbconvert_exporter": "python",
   "pygments_lexer": "ipython3",
   "version": "3.11.7"
  }
 },
 "nbformat": 4,
 "nbformat_minor": 2
}
