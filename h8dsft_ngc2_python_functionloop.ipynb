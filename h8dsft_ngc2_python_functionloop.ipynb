{
 "cells": [
  {
   "cell_type": "markdown",
   "metadata": {},
   "source": [
    "Exercise 1 "
   ]
  },
  {
   "cell_type": "code",
   "execution_count": 16,
   "metadata": {},
   "outputs": [
    {
     "name": "stdout",
     "output_type": "stream",
     "text": [
      "2 2 \n",
      "3 3 3 \n",
      "4 4 4 4 \n",
      "5 5 5 5 5 \n",
      "6 6 6 6 6 6 \n",
      "7 7 7 7 7 7 7 \n",
      "8 8 8 8 8 8 8 8 \n",
      "9 9 9 9 9 9 9 9 9 \n"
     ]
    }
   ],
   "source": [
    "for i in range (1,10):\n",
    "    for j in range (i) :\n",
    "        print (i, end=\" \") \n",
    "    print ()\n",
    "             "
   ]
  },
  {
   "cell_type": "markdown",
   "metadata": {},
   "source": [
    "exercise 2"
   ]
  },
  {
   "cell_type": "code",
   "execution_count": null,
   "metadata": {},
   "outputs": [],
   "source": [
    "valid = False\n",
    "\n",
    "while not valid : \n",
    "    password = input(\"enter a password\")\n",
    "    \n",
    "    if len(password) < 6 or len(password) > 16:\n",
    "        print (\"password harus dari 6 dan 16 karakter.\")\n",
    "    elif not any (c.islower () for c in password):\n",
    "        print (\"password harus memiliki setidak nya satu huruf kecil\")\n",
    "    elif not any (c.isupper() for c in password) :\n",
    "        print (\"password harus memiliki setidaknya satu huruf besar.\")\n",
    "    elif not any (c.isdigit () for c in password) :\n",
    "        print (\"password harus memiliki setidaknya satu angka\")\n",
    "    elif not any (c in [\"@\",\"#\",\"$\",\"%\"] for c in password) :\n",
    "        print (\"password harus memiliki setidaknya satu karakter @,#,$,%.\")\n",
    "    else:\n",
    "        valid = True\n",
    "        print (\"password is valid\")"
   ]
  },
  {
   "cell_type": "markdown",
   "metadata": {},
   "source": [
    "Task #1 number of word"
   ]
  },
  {
   "cell_type": "code",
   "execution_count": 4,
   "metadata": {},
   "outputs": [
    {
     "name": "stdout",
     "output_type": "stream",
     "text": [
      "the originial string is :percobaan kata pusing\n",
      "jumlah kata di string adalah :3\n"
     ]
    }
   ],
   "source": [
    "#cara hitung kata menggunakan split()\n",
    "\n",
    "test_string = \"percobaan kata pusing\"\n",
    "#ngeprint original string\n",
    "print(\"the originial string is :\" + test_string)\n",
    "\n",
    "#using split()\n",
    "#menghitung kata didalam string\n",
    "\n",
    "res = len(test_string.split())\n",
    "\n",
    "#hasil print\n",
    "print(\"jumlah kata di string adalah :\" + str(res))"
   ]
  },
  {
   "cell_type": "markdown",
   "metadata": {},
   "source": [
    "Task #2 find multiple"
   ]
  },
  {
   "cell_type": "code",
   "execution_count": 3,
   "metadata": {},
   "outputs": [
    {
     "name": "stdout",
     "output_type": "stream",
     "text": [
      "[5, 10, 15, 20]\n"
     ]
    }
   ],
   "source": [
    "multiples = []\n",
    "\n",
    "for i in range (1,21):\n",
    "    if i%5==0 :\n",
    "        multiples.append(i)\n",
    "print (multiples)\n",
    "    \n",
    "    "
   ]
  },
  {
   "cell_type": "code",
   "execution_count": 5,
   "metadata": {},
   "outputs": [
    {
     "name": "stdout",
     "output_type": "stream",
     "text": [
      "[10, 20, 30, 40, 50]\n"
     ]
    }
   ],
   "source": [
    "multiples = []\n",
    "\n",
    "for i in range (1,60):\n",
    "    if i%10==0 :\n",
    "        multiples.append(i)\n",
    "print (multiples)"
   ]
  },
  {
   "cell_type": "markdown",
   "metadata": {},
   "source": [
    "Task 3#"
   ]
  },
  {
   "cell_type": "code",
   "execution_count": 11,
   "metadata": {},
   "outputs": [
    {
     "ename": "SyntaxError",
     "evalue": "invalid syntax (2433048836.py, line 1)",
     "output_type": "error",
     "traceback": [
      "\u001b[1;36m  Cell \u001b[1;32mIn[11], line 1\u001b[1;36m\u001b[0m\n\u001b[1;33m    GPA = {85-100:\"A\";4.0}\u001b[0m\n\u001b[1;37m                     ^\u001b[0m\n\u001b[1;31mSyntaxError\u001b[0m\u001b[1;31m:\u001b[0m invalid syntax\n"
     ]
    }
   ],
   "source": [
    "GPA = (85-100:\"A\";4.0)"
   ]
  }
 ],
 "metadata": {
  "kernelspec": {
   "display_name": "base",
   "language": "python",
   "name": "python3"
  },
  "language_info": {
   "codemirror_mode": {
    "name": "ipython",
    "version": 3
   },
   "file_extension": ".py",
   "mimetype": "text/x-python",
   "name": "python",
   "nbconvert_exporter": "python",
   "pygments_lexer": "ipython3",
   "version": "3.11.7"
  }
 },
 "nbformat": 4,
 "nbformat_minor": 2
}
