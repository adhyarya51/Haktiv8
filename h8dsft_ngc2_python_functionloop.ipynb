{
 "cells": [
  {
   "cell_type": "markdown",
   "metadata": {},
   "source": [
    "Exercise 1 "
   ]
  },
  {
   "cell_type": "code",
   "execution_count": 16,
   "metadata": {},
   "outputs": [
    {
     "name": "stdout",
     "output_type": "stream",
     "text": [
      "2 2 \n",
      "3 3 3 \n",
      "4 4 4 4 \n",
      "5 5 5 5 5 \n",
      "6 6 6 6 6 6 \n",
      "7 7 7 7 7 7 7 \n",
      "8 8 8 8 8 8 8 8 \n",
      "9 9 9 9 9 9 9 9 9 \n"
     ]
    }
   ],
   "source": [
    "for i in range (1,10):\n",
    "    for j in range (i) :\n",
    "        print (i, end=\" \") \n",
    "    print ()\n",
    "             "
   ]
  },
  {
   "cell_type": "markdown",
   "metadata": {},
   "source": [
    "exercise 2"
   ]
  },
  {
   "cell_type": "code",
   "execution_count": 1,
   "metadata": {},
   "outputs": [
    {
     "ename": "KeyboardInterrupt",
     "evalue": "Interrupted by user",
     "output_type": "error",
     "traceback": [
      "\u001b[1;31m---------------------------------------------------------------------------\u001b[0m",
      "\u001b[1;31mKeyboardInterrupt\u001b[0m                         Traceback (most recent call last)",
      "Cell \u001b[1;32mIn[1], line 4\u001b[0m\n\u001b[0;32m      1\u001b[0m valid \u001b[38;5;241m=\u001b[39m \u001b[38;5;28;01mFalse\u001b[39;00m\n\u001b[0;32m      3\u001b[0m \u001b[38;5;28;01mwhile\u001b[39;00m \u001b[38;5;129;01mnot\u001b[39;00m valid : \n\u001b[1;32m----> 4\u001b[0m     password \u001b[38;5;241m=\u001b[39m \u001b[38;5;28minput\u001b[39m(\u001b[38;5;124m\"\u001b[39m\u001b[38;5;124menter a password\u001b[39m\u001b[38;5;124m\"\u001b[39m)\n\u001b[0;32m      6\u001b[0m     \u001b[38;5;28;01mif\u001b[39;00m \u001b[38;5;28mlen\u001b[39m(password) \u001b[38;5;241m<\u001b[39m \u001b[38;5;241m6\u001b[39m \u001b[38;5;129;01mor\u001b[39;00m \u001b[38;5;28mlen\u001b[39m(password) \u001b[38;5;241m>\u001b[39m \u001b[38;5;241m16\u001b[39m:\n\u001b[0;32m      7\u001b[0m         \u001b[38;5;28mprint\u001b[39m (\u001b[38;5;124m\"\u001b[39m\u001b[38;5;124mpassword harus dari 6 dan 16 karakter.\u001b[39m\u001b[38;5;124m\"\u001b[39m)\n",
      "File \u001b[1;32mc:\\Users\\adhy arya\\anaconda3\\Lib\\site-packages\\ipykernel\\kernelbase.py:1262\u001b[0m, in \u001b[0;36mKernel.raw_input\u001b[1;34m(self, prompt)\u001b[0m\n\u001b[0;32m   1260\u001b[0m     msg \u001b[38;5;241m=\u001b[39m \u001b[38;5;124m\"\u001b[39m\u001b[38;5;124mraw_input was called, but this frontend does not support input requests.\u001b[39m\u001b[38;5;124m\"\u001b[39m\n\u001b[0;32m   1261\u001b[0m     \u001b[38;5;28;01mraise\u001b[39;00m StdinNotImplementedError(msg)\n\u001b[1;32m-> 1262\u001b[0m \u001b[38;5;28;01mreturn\u001b[39;00m \u001b[38;5;28mself\u001b[39m\u001b[38;5;241m.\u001b[39m_input_request(\n\u001b[0;32m   1263\u001b[0m     \u001b[38;5;28mstr\u001b[39m(prompt),\n\u001b[0;32m   1264\u001b[0m     \u001b[38;5;28mself\u001b[39m\u001b[38;5;241m.\u001b[39m_parent_ident[\u001b[38;5;124m\"\u001b[39m\u001b[38;5;124mshell\u001b[39m\u001b[38;5;124m\"\u001b[39m],\n\u001b[0;32m   1265\u001b[0m     \u001b[38;5;28mself\u001b[39m\u001b[38;5;241m.\u001b[39mget_parent(\u001b[38;5;124m\"\u001b[39m\u001b[38;5;124mshell\u001b[39m\u001b[38;5;124m\"\u001b[39m),\n\u001b[0;32m   1266\u001b[0m     password\u001b[38;5;241m=\u001b[39m\u001b[38;5;28;01mFalse\u001b[39;00m,\n\u001b[0;32m   1267\u001b[0m )\n",
      "File \u001b[1;32mc:\\Users\\adhy arya\\anaconda3\\Lib\\site-packages\\ipykernel\\kernelbase.py:1305\u001b[0m, in \u001b[0;36mKernel._input_request\u001b[1;34m(self, prompt, ident, parent, password)\u001b[0m\n\u001b[0;32m   1302\u001b[0m \u001b[38;5;28;01mexcept\u001b[39;00m \u001b[38;5;167;01mKeyboardInterrupt\u001b[39;00m:\n\u001b[0;32m   1303\u001b[0m     \u001b[38;5;66;03m# re-raise KeyboardInterrupt, to truncate traceback\u001b[39;00m\n\u001b[0;32m   1304\u001b[0m     msg \u001b[38;5;241m=\u001b[39m \u001b[38;5;124m\"\u001b[39m\u001b[38;5;124mInterrupted by user\u001b[39m\u001b[38;5;124m\"\u001b[39m\n\u001b[1;32m-> 1305\u001b[0m     \u001b[38;5;28;01mraise\u001b[39;00m \u001b[38;5;167;01mKeyboardInterrupt\u001b[39;00m(msg) \u001b[38;5;28;01mfrom\u001b[39;00m \u001b[38;5;28;01mNone\u001b[39;00m\n\u001b[0;32m   1306\u001b[0m \u001b[38;5;28;01mexcept\u001b[39;00m \u001b[38;5;167;01mException\u001b[39;00m:\n\u001b[0;32m   1307\u001b[0m     \u001b[38;5;28mself\u001b[39m\u001b[38;5;241m.\u001b[39mlog\u001b[38;5;241m.\u001b[39mwarning(\u001b[38;5;124m\"\u001b[39m\u001b[38;5;124mInvalid Message:\u001b[39m\u001b[38;5;124m\"\u001b[39m, exc_info\u001b[38;5;241m=\u001b[39m\u001b[38;5;28;01mTrue\u001b[39;00m)\n",
      "\u001b[1;31mKeyboardInterrupt\u001b[0m: Interrupted by user"
     ]
    }
   ],
   "source": [
    "valid = False\n",
    "\n",
    "while not valid : \n",
    "    password = input(\"enter a password\")\n",
    "    \n",
    "    if len(password) < 6 or len(password) > 16:\n",
    "        print (\"password harus dari 6 dan 16 karakter.\")\n",
    "    elif not any (c.islower () for c in password):\n",
    "        print (\"password harus memiliki setidak nya satu huruf kecil\")\n",
    "    elif not any (c.isupper() for c in password) :\n",
    "        print (\"password harus memiliki setidaknya satu huruf besar.\")\n",
    "    elif not any (c.isdigit () for c in password) :\n",
    "        print (\"password harus memiliki setidaknya satu angka\")\n",
    "    elif not any (c in [\"@\",\"#\",\"$\",\"%\"] for c in password) :\n",
    "        print (\"password harus memiliki setidaknya satu karakter @,#,$,%.\")\n",
    "    else:\n",
    "        valid = True\n",
    "        print (\"password is valid\")"
   ]
  },
  {
   "cell_type": "markdown",
   "metadata": {},
   "source": [
    "Task #1 number of word"
   ]
  },
  {
   "cell_type": "code",
   "execution_count": 4,
   "metadata": {},
   "outputs": [
    {
     "name": "stdout",
     "output_type": "stream",
     "text": [
      "the originial string is :percobaan kata pusing\n",
      "jumlah kata di string adalah :3\n"
     ]
    }
   ],
   "source": [
    "#cara hitung kata menggunakan split()\n",
    "\n",
    "test_string = \"percobaan kata pusing\"\n",
    "#ngeprint original string\n",
    "print(\"the originial string is :\" + test_string)\n",
    "\n",
    "#using split()\n",
    "#menghitung kata didalam string\n",
    "\n",
    "res = len(test_string.split())\n",
    "\n",
    "#hasil print\n",
    "print(\"jumlah kata di string adalah :\" + str(res))"
   ]
  },
  {
   "cell_type": "markdown",
   "metadata": {},
   "source": [
    "Task #2 find multiple"
   ]
  },
  {
   "cell_type": "code",
   "execution_count": 3,
   "metadata": {},
   "outputs": [
    {
     "name": "stdout",
     "output_type": "stream",
     "text": [
      "[5, 10, 15, 20]\n"
     ]
    }
   ],
   "source": [
    "multiples = []\n",
    "\n",
    "for i in range (1,21):\n",
    "    if i%5==0 :\n",
    "        multiples.append(i)\n",
    "print (multiples)\n",
    "    \n",
    "    "
   ]
  },
  {
   "cell_type": "code",
   "execution_count": 5,
   "metadata": {},
   "outputs": [
    {
     "name": "stdout",
     "output_type": "stream",
     "text": [
      "[10, 20, 30, 40, 50]\n"
     ]
    }
   ],
   "source": [
    "multiples = []\n",
    "\n",
    "for i in range (1,60):\n",
    "    if i%10==0 :\n",
    "        multiples.append(i)\n",
    "print (multiples)"
   ]
  },
  {
   "cell_type": "markdown",
   "metadata": {},
   "source": [
    "Task 3#"
   ]
  },
  {
   "cell_type": "code",
   "execution_count": 4,
   "metadata": {},
   "outputs": [],
   "source": [
    "GPA = (85-100,\"A\",4.0) "
   ]
  },
  {
   "cell_type": "code",
   "execution_count": 19,
   "metadata": {},
   "outputs": [],
   "source": [
    "\n",
    "Grade_converter = {\n",
    "    'A' : [80,100,4],\n",
    "    'B' : [70,84.99,3],\n",
    "    'C' : [60,69.99,2.5],\n",
    "    'D' : [50,59.99,2],\n",
    "    'E' : [40,49.99,1],\n",
    "    'F' : [30,39.99,0],\n",
    "}\n",
    "\n",
    "def get_grade(number_grade):\n",
    "    for letter, bound in grade_converter.items():\n",
    "        if number_grade>= bound[0] and number_grade <= bound[1]:\n",
    "            return letter\n",
    "    raise ValueError('Invalid number grade')"
   ]
  },
  {
   "cell_type": "markdown",
   "metadata": {},
   "source": [
    "percobaan kedua"
   ]
  },
  {
   "cell_type": "code",
   "execution_count": 30,
   "metadata": {},
   "outputs": [],
   "source": [
    "def calculate_gpa(score):\n",
    "    if score >= 85:\n",
    "        return 4.0\n",
    "    elif score >= 70:\n",
    "        return 3.0\n",
    "    elif score >= 60:\n",
    "        return 2.5\n",
    "    elif score >= 50:\n",
    "        return 2.0\n",
    "    elif score >= 40:\n",
    "        return 1.5\n",
    "    else:\n",
    "        return 1.0\n",
    "\n",
    "def calculate_letter_grade(score):\n",
    "    if score >= 85:\n",
    "        return 'A'\n",
    "    elif score >= 70:\n",
    "        return 'B'\n",
    "    elif score >= 60:\n",
    "        return 'C'\n",
    "    elif score >= 50:\n",
    "        return 'D'\n",
    "    elif score >= 40:\n",
    "        return 'E'\n",
    "    else:\n",
    "        return 'F'\n",
    "\n",
    "def Grade_Converter(convert_to, **kwargs):\n",
    "    result = {}\n",
    "    for student, score in kwargs.items():\n",
    "        if convert_to == 'gpa':\n",
    "            result[student] = calculate_gpa(score)\n",
    "        elif convert_to == 'letter_grade':\n",
    "            result[student] = calculate_letter_grade(score)\n",
    "        else:\n",
    "            return \"Invalid conversion type. Please choose either 'gpa' or 'letter_grade'.\"\n",
    "    return result"
   ]
  },
  {
   "cell_type": "code",
   "execution_count": 32,
   "metadata": {},
   "outputs": [
    {
     "name": "stdout",
     "output_type": "stream",
     "text": [
      "{'Adam': 2.5, 'Faiz': 4.0}\n",
      "{'Albert': 'A', 'Dwi': 'B', 'Syahdan': 'D', 'Veronica': 'B'}\n"
     ]
    }
   ],
   "source": [
    "print(Grade_Converter(convert_to='gpa', Adam=62, Faiz=91))\n",
    "\n",
    "print(Grade_Converter(convert_to='letter_grade', Albert=90, Dwi=82, Syahdan=58, Veronica=84))"
   ]
  },
  {
   "cell_type": "markdown",
   "metadata": {},
   "source": [
    "Task 4#"
   ]
  },
  {
   "cell_type": "code",
   "execution_count": null,
   "metadata": {},
   "outputs": [],
   "source": []
  }
 ],
 "metadata": {
  "kernelspec": {
   "display_name": "base",
   "language": "python",
   "name": "python3"
  },
  "language_info": {
   "codemirror_mode": {
    "name": "ipython",
    "version": 3
   },
   "file_extension": ".py",
   "mimetype": "text/x-python",
   "name": "python",
   "nbconvert_exporter": "python",
   "pygments_lexer": "ipython3",
   "version": "3.11.7"
  }
 },
 "nbformat": 4,
 "nbformat_minor": 2
}
