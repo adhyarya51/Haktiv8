{
 "cells": [
  {
   "cell_type": "code",
   "execution_count": 6,
   "metadata": {},
   "outputs": [],
   "source": [
    "def hitung_luas(p,l):\n",
    "    return p*l \n",
    "\n",
    "luas = 10 * 2"
   ]
  },
  {
   "cell_type": "code",
   "execution_count": 3,
   "metadata": {},
   "outputs": [
    {
     "data": {
      "text/plain": [
       "20"
      ]
     },
     "execution_count": 3,
     "metadata": {},
     "output_type": "execute_result"
    }
   ],
   "source": [
    "hitung_luas(10,2)"
   ]
  },
  {
   "cell_type": "markdown",
   "metadata": {},
   "source": [
    "Global vs Local Variable "
   ]
  },
  {
   "cell_type": "markdown",
   "metadata": {},
   "source": [
    "required, keyword, and default argument"
   ]
  },
  {
   "cell_type": "code",
   "execution_count": 10,
   "metadata": {},
   "outputs": [],
   "source": [
    "#bentuk dasar \n",
    "def func(a,b,c =11,d =3):\n",
    "    return a+b+c+d \n"
   ]
  },
  {
   "cell_type": "code",
   "execution_count": 12,
   "metadata": {},
   "outputs": [
    {
     "data": {
      "text/plain": [
       "9"
      ]
     },
     "execution_count": 12,
     "metadata": {},
     "output_type": "execute_result"
    }
   ],
   "source": [
    "#3 calling function \n",
    "func(1,2,3,)"
   ]
  },
  {
   "cell_type": "code",
   "execution_count": 18,
   "metadata": {},
   "outputs": [
    {
     "name": "stdout",
     "output_type": "stream",
     "text": [
      "halo arya saya mau kenalan\n",
      "hello arya,saya mau kenalan\n"
     ]
    }
   ],
   "source": [
    "#format string \n",
    "\n",
    "nama = \"arya\"\n",
    "print(\"halo\",nama,\"saya mau kenalan\" ) #cara pertama\n",
    "print(f\"hello {nama},saya mau kenalan\") #cara kedua"
   ]
  },
  {
   "cell_type": "markdown",
   "metadata": {},
   "source": [
    "Module & package "
   ]
  },
  {
   "cell_type": "markdown",
   "metadata": {},
   "source": []
  },
  {
   "cell_type": "code",
   "execution_count": 19,
   "metadata": {},
   "outputs": [],
   "source": [
    "import pandas as pd"
   ]
  },
  {
   "cell_type": "markdown",
   "metadata": {},
   "source": [
    "Python : Object Oriented Programming"
   ]
  },
  {
   "cell_type": "markdown",
   "metadata": {},
   "source": [
    "OOP = gabungan dari beberapa function"
   ]
  },
  {
   "cell_type": "markdown",
   "metadata": {},
   "source": [
    "\n",
    "atribut didalam function ada parameter\n",
    "\n"
   ]
  },
  {
   "cell_type": "code",
   "execution_count": null,
   "metadata": {},
   "outputs": [],
   "source": [
    "class BankAccount:\n",
    "\n",
    "  def __init__(self, account_number, balance):\n",
    "    self.__account_number = account_number # `__` indicate that the attribute is private\n",
    "    self.__balance = balance # private attribute cannot be called when a class be an object\n",
    "\n",
    "  def deposit(self, amount): #metode untuk menambahkan uang\n",
    "    self.__balance += amount\n",
    "\n",
    "  def withdraw(self, amount): #metode untuk mengurangi uang/saldo \n",
    "    if self.__balance >= amount:\n",
    "      self.__balance -= amount\n",
    "    else:\n",
    "      print('Insufficient Balance')\n",
    "\n",
    "  def get_balance(self): #If you use return schema on a function/method, you can \"transform\" a private attribute to public\n",
    "    return self.__balance #__balance can be access but through get_balance when a class be an object"
   ]
  }
 ],
 "metadata": {
  "kernelspec": {
   "display_name": "base",
   "language": "python",
   "name": "python3"
  },
  "language_info": {
   "codemirror_mode": {
    "name": "ipython",
    "version": 3
   },
   "file_extension": ".py",
   "mimetype": "text/x-python",
   "name": "python",
   "nbconvert_exporter": "python",
   "pygments_lexer": "ipython3",
   "version": "3.11.7"
  }
 },
 "nbformat": 4,
 "nbformat_minor": 2
}
