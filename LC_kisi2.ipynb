{
 "cells": [
  {
   "cell_type": "markdown",
   "metadata": {},
   "source": [
    "no.1"
   ]
  },
  {
   "cell_type": "code",
   "execution_count": 2,
   "metadata": {},
   "outputs": [],
   "source": [
    "# working area\n",
    "\n",
    "def calories_burned(duration,excercise):\n",
    "  if excercise.lower() == 'berlari':\n",
    "    burned_cal = 10 * duration\n",
    "\n",
    "  elif excercise.lower() == 'bersepeda':\n",
    "    burned_cal = 8 * duration\n",
    "  else:\n",
    "    burned_cal = 12 * duration\n",
    "  return burned_cal"
   ]
  },
  {
   "cell_type": "markdown",
   "metadata": {},
   "source": [
    "no.2"
   ]
  },
  {
   "cell_type": "code",
   "execution_count": 3,
   "metadata": {},
   "outputs": [],
   "source": [
    "def total_session_burned_cal(*kegiatanku,each_session_duration): \n",
    "  total_calories_burned = 0 \n",
    "  for i in kegiatanku : \n",
    "    total_calories_burned += calories_burned(each_session_duration, i )\n",
    "    return total_calories_burned"
   ]
  },
  {
   "cell_type": "code",
   "execution_count": 4,
   "metadata": {},
   "outputs": [
    {
     "data": {
      "text/plain": [
       "120"
      ]
     },
     "execution_count": 4,
     "metadata": {},
     "output_type": "execute_result"
    }
   ],
   "source": [
    "total_session_burned_cal(\"berenang\", \"bersepeda\", each_session_duration=10)"
   ]
  },
  {
   "cell_type": "markdown",
   "metadata": {},
   "source": [
    "no.3"
   ]
  },
  {
   "cell_type": "code",
   "execution_count": null,
   "metadata": {},
   "outputs": [],
   "source": []
  }
 ],
 "metadata": {
  "kernelspec": {
   "display_name": "base",
   "language": "python",
   "name": "python3"
  },
  "language_info": {
   "codemirror_mode": {
    "name": "ipython",
    "version": 3
   },
   "file_extension": ".py",
   "mimetype": "text/x-python",
   "name": "python",
   "nbconvert_exporter": "python",
   "pygments_lexer": "ipython3",
   "version": "3.11.7"
  }
 },
 "nbformat": 4,
 "nbformat_minor": 2
}
