{
 "cells": [
  {
   "cell_type": "markdown",
   "metadata": {},
   "source": [
    "Objective"
   ]
  },
  {
   "cell_type": "markdown",
   "metadata": {},
   "source": [
    "1.Able to perform Object Oriented Programming (OOP) by creating a library system with handling exception.3\n"
   ]
  },
  {
   "cell_type": "markdown",
   "metadata": {},
   "source": [
    "Task \n",
    "\n",
    "Create a library catalog system using OOP. The system should allow users to add books to the catalog, search for books by title or author, and remove books from the catalog.\n",
    "\n",
    "Requirements:\n",
    "```\n",
    "1.Each book should have a title, author, and unique identifier\n",
    "2.The system should provide the following functionality:\n",
    "    ●Adding a book to the catalog.\n",
    "    ●Searching for books by title or author.\n",
    "    ●Removing a book from the catalog.\n",
    "    ●Displaying all books in the catalog.\n",
    "3.Do the exception handling\n",
    "```"
   ]
  },
  {
   "cell_type": "code",
   "execution_count": 12,
   "metadata": {},
   "outputs": [
    {
     "ename": "SyntaxError",
     "evalue": "positional argument follows keyword argument unpacking (3152837213.py, line 14)",
     "output_type": "error",
     "traceback": [
      "\u001b[1;36m  Cell \u001b[1;32mIn[12], line 14\u001b[1;36m\u001b[0m\n\u001b[1;33m    if not isinstance(**book,book):\u001b[0m\n\u001b[1;37m                                 ^\u001b[0m\n\u001b[1;31mSyntaxError\u001b[0m\u001b[1;31m:\u001b[0m positional argument follows keyword argument unpacking\n"
     ]
    }
   ],
   "source": [
    "class book:\n",
    "    def __init__(self, title, author, identifier) :\n",
    "        self.title = title\n",
    "        self.author = author\n",
    "        self.id = identifier\n",
    "    def __str__(self) -> str:\n",
    "        return f\"{self.id}: {self.title}: by {self.author}\"\n",
    "    \n",
    "class KatalogPerpustakaan:\n",
    "    def __init__(self) :\n",
    "        self.book = []\n",
    "        \n",
    "    def add_book(self, book):\n",
    "        if not isinstance(**book,book):\n",
    "            raise ValueError(\"Invalid book object\")\n",
    "        self.books.append(book)\n",
    "    \n",
    "    def search_book(self,keyword):\n",
    "        found_books = []\n",
    "        for book in self.books:\n",
    "            if keyword.lower() in book.title.lower() or keyword.lower() in book.author.lower():\n",
    "                found_books.append(book)\n",
    "        return found_books\n",
    "    \n",
    "    def remove_book(self,book):\n",
    "        if book in self.books:\n",
    "            self.books.remove(book)\n",
    "        else:\n",
    "            raise ValueError(\"Book not found in catalog\")\n",
    "    \n",
    "    def display_books(self):\n",
    "        if not self.books:\n",
    "            print (\"No books in the catalog\")\n",
    "        else : \n",
    "            for book in self.books:\n",
    "                print(book)"
   ]
  },
  {
   "cell_type": "code",
   "execution_count": 14,
   "metadata": {},
   "outputs": [
    {
     "ename": "TypeError",
     "evalue": "isinstance() argument after ** must be a mapping, not book",
     "output_type": "error",
     "traceback": [
      "\u001b[1;31m---------------------------------------------------------------------------\u001b[0m",
      "\u001b[1;31mTypeError\u001b[0m                                 Traceback (most recent call last)",
      "Cell \u001b[1;32mIn[14], line 11\u001b[0m\n\u001b[0;32m      8\u001b[0m catalog \u001b[38;5;241m=\u001b[39m KatalogPerpustakaan()\n\u001b[0;32m     10\u001b[0m \u001b[38;5;66;03m#menambah buku kedalam katalog\u001b[39;00m\n\u001b[1;32m---> 11\u001b[0m catalog\u001b[38;5;241m.\u001b[39madd_book(book1)\n\u001b[0;32m     12\u001b[0m catalog\u001b[38;5;241m.\u001b[39madd_book(book2)\n\u001b[0;32m     14\u001b[0m \u001b[38;5;66;03m#memunculkan buku didalam katalog\u001b[39;00m\n",
      "Cell \u001b[1;32mIn[9], line 14\u001b[0m, in \u001b[0;36mKatalogPerpustakaan.add_book\u001b[1;34m(self, book)\u001b[0m\n\u001b[0;32m     13\u001b[0m \u001b[38;5;28;01mdef\u001b[39;00m \u001b[38;5;21madd_book\u001b[39m(\u001b[38;5;28mself\u001b[39m, book):\n\u001b[1;32m---> 14\u001b[0m     \u001b[38;5;28;01mif\u001b[39;00m \u001b[38;5;129;01mnot\u001b[39;00m \u001b[38;5;28misinstance\u001b[39m(book,\u001b[38;5;241m*\u001b[39m\u001b[38;5;241m*\u001b[39mbook):\n\u001b[0;32m     15\u001b[0m         \u001b[38;5;28;01mraise\u001b[39;00m \u001b[38;5;167;01mValueError\u001b[39;00m(\u001b[38;5;124m\"\u001b[39m\u001b[38;5;124mInvalid book object\u001b[39m\u001b[38;5;124m\"\u001b[39m)\n\u001b[0;32m     16\u001b[0m     \u001b[38;5;28mself\u001b[39m\u001b[38;5;241m.\u001b[39mbooks\u001b[38;5;241m.\u001b[39mappend(book)\n",
      "\u001b[1;31mTypeError\u001b[0m: isinstance() argument after ** must be a mapping, not book"
     ]
    }
   ],
   "source": [
    "#cara melakukan calling pada fungsi \n",
    "\n",
    "#memuat buku kedalam perpusatakaan \n",
    "book1 = book (\"Harry Potter\", \"Arya Rowling\", 2)\n",
    "book2 = book (\"Captain Arya\", \"Arya The Cameo\", 2)\n",
    "\n",
    "#membuat katalog didalam perpus\n",
    "catalog = KatalogPerpustakaan()\n",
    "\n",
    "#menambah buku kedalam katalog\n",
    "catalog.add_book(book1)\n",
    "catalog.add_book(book2)\n",
    "\n",
    "#memunculkan buku didalam katalog\n",
    "catalog.display_books()\n",
    "\n",
    "#mencari buku \n",
    "search_result = catalog.search_book(\"title1\")\n",
    "print(\"search result:\")\n",
    "for book in search_result:\n",
    "    print (book)\n",
    "    \n",
    "#menghapus buku dari catalog \n",
    "catalog.remove_book(book1)"
   ]
  }
 ],
 "metadata": {
  "kernelspec": {
   "display_name": "base",
   "language": "python",
   "name": "python3"
  },
  "language_info": {
   "codemirror_mode": {
    "name": "ipython",
    "version": 3
   },
   "file_extension": ".py",
   "mimetype": "text/x-python",
   "name": "python",
   "nbconvert_exporter": "python",
   "pygments_lexer": "ipython3",
   "version": "3.11.7"
  }
 },
 "nbformat": 4,
 "nbformat_minor": 2
}
