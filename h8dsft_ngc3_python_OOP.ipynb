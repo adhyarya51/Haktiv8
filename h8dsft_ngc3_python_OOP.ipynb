{
 "cells": [
  {
   "cell_type": "markdown",
   "metadata": {},
   "source": [
    "Objective"
   ]
  },
  {
   "cell_type": "markdown",
   "metadata": {},
   "source": [
    "1.Able to perform Object Oriented Programming (OOP) by creating a library system with handling exception.3\n"
   ]
  },
  {
   "cell_type": "markdown",
   "metadata": {},
   "source": [
    "Task \n",
    "\n",
    "Create a library catalog system using OOP. The system should allow users to add books to the catalog, search for books by title or author, and remove books from the catalog.\n",
    "\n",
    "Requirements:\n",
    "```\n",
    "1.Each book should have a title, author, and unique identifier\n",
    "2.The system should provide the following functionality:\n",
    "    ●Adding a book to the catalog.\n",
    "    ●Searching for books by title or author.\n",
    "    ●Removing a book from the catalog.\n",
    "    ●Displaying all books in the catalog.\n",
    "3.Do the exception handling\n",
    "```"
   ]
  },
  {
   "cell_type": "code",
   "execution_count": 73,
   "metadata": {},
   "outputs": [
    {
     "name": "stdout",
     "output_type": "stream",
     "text": [
      "2: Harry Potter: by Arya Rowling\n"
     ]
    }
   ],
   "source": [
    "class book:\n",
    "    def __init__(self, title, author, identifier) :\n",
    "        self.title = title\n",
    "        self.author = author\n",
    "        self.id = identifier\n",
    "    def __str__(self) -> str:\n",
    "        return f\"{self.id}: {self.title}: by {self.author}\"\n",
    "    \n",
    "class KatalogPerpustakaan:\n",
    "    def __init__(self) :\n",
    "        self.book = []\n",
    "        \n",
    "    def add_book(self, book):\n",
    "        if not isinstance(book, book):\n",
    "            raise ValueError(\"Invalid book object\")\n",
    "        self.books.append(book)\n",
    "    \n",
    "    def search_book(self,keyword):\n",
    "        found_books = []\n",
    "        for book in self.books:\n",
    "            if keyword.lower() in book.title.lower() or keyword.lower() in book.author.lower():\n",
    "                found_books.append(book)\n",
    "        return found_books\n",
    "    \n",
    "    def remove_book(self,book):\n",
    "        if book in self.books:\n",
    "            self.books.remove(book)\n",
    "        else:\n",
    "            raise ValueError(\"Book not found in catalog\")\n",
    "    \n",
    "    def display_books(self):\n",
    "        if not self.books:\n",
    "            print (\"No books in the catalog\")\n",
    "        else : \n",
    "            for book in self.books:\n",
    "                print(book)\n",
    "\n",
    "book1 = book (\"Harry Potter\", \"Arya Rowling\", 2)\n",
    "book2 = book (\"Captain Arya\", \"Arya The Cameo\", 2)\n",
    "\n",
    "print (book1)"
   ]
  }
 ],
 "metadata": {
  "kernelspec": {
   "display_name": "base",
   "language": "python",
   "name": "python3"
  },
  "language_info": {
   "codemirror_mode": {
    "name": "ipython",
    "version": 3
   },
   "file_extension": ".py",
   "mimetype": "text/x-python",
   "name": "python",
   "nbconvert_exporter": "python",
   "pygments_lexer": "ipython3",
   "version": "3.11.7"
  }
 },
 "nbformat": 4,
 "nbformat_minor": 2
}
