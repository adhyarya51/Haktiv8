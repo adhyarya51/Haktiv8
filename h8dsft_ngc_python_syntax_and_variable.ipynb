{
 "cells": [
  {
   "cell_type": "markdown",
   "metadata": {},
   "source": [
    "TASK #1 given list of customer_id that doing transaction in 1 day : \n",
    "how many unique customer_id from above list"
   ]
  },
  {
   "cell_type": "code",
   "execution_count": 1,
   "metadata": {},
   "outputs": [
    {
     "name": "stdout",
     "output_type": "stream",
     "text": [
      "unique values customer_id\n",
      "['B818', 'A461', 'A092', 'A082', 'B341', 'A005', 'A092', 'A461', 'B219', 'B904', 'A901', 'A083', 'B904', 'A092', 'B341', 'B821', 'B341', 'B821', 'B904', 'B818', 'A901', 'A083', 'B818', 'A082', 'B219', 'B219', 'A083', 'A901', 'A082', 'B341', 'B341', 'A083', 'A082', 'B219', 'B439', 'A461', 'A005', 'A901', 'B341', 'A082', 'A083', 'A461', 'A083', 'A901', 'A461', 'A083', 'A082', 'A083', 'B341', 'A901', 'A082', 'A461', 'B219', 'A083', 'B818', 'B821', 'A092', 'B341', 'A461', 'A092', 'A083', 'B821', 'A092'] "
     ]
    }
   ],
   "source": [
    "def unique (customer_id):\n",
    "\n",
    "    unique_list = [customer_id]\n",
    "\n",
    "    for x in customer_id:\n",
    "\n",
    "        if customer_id not in unique_list:\n",
    "            unique_list.append(x)\n",
    "    for x in unique_list:\n",
    "        print (x, end=\" \"), \n",
    "        \n",
    "customer_id = ['B818', 'A461', 'A092', \n",
    "                'A082', 'B341', 'A005', 'A092', 'A461',\n",
    "               'B219', 'B904', 'A901', 'A083', 'B904', 'A092', 'B341', \n",
    "               'B821','B341', 'B821', 'B904', 'B818', \n",
    "               'A901', 'A083', 'B818', 'A082','B219', 'B219', \n",
    "               'A083', 'A901', 'A082', 'B341', 'B341', 'A083',\n",
    "               'A082', 'B219', 'B439', 'A461', 'A005', \n",
    "               'A901', 'B341', 'A082','A083', 'A461', 'A083', 'A901', 'A461', 'A083', \n",
    "               'A082', 'A083','B341', 'A901', \n",
    "               'A082', 'A461', 'B219', 'A083', 'B818', 'B821','A092', \n",
    "               'B341', 'A461', 'A092', 'A083', 'B821', 'A092']\n",
    "\n",
    "print (\"unique values customer_id\")\n",
    "unique(customer_id)"
   ]
  },
  {
   "cell_type": "code",
   "execution_count": 2,
   "metadata": {},
   "outputs": [
    {
     "name": "stdout",
     "output_type": "stream",
     "text": [
      "25\n"
     ]
    }
   ],
   "source": [
    "print (len(\"unique values customer_id\")) "
   ]
  },
  {
   "cell_type": "markdown",
   "metadata": {},
   "source": [
    "Task #1 (cara yang lain)\n"
   ]
  },
  {
   "cell_type": "code",
   "execution_count": 3,
   "metadata": {},
   "outputs": [
    {
     "name": "stdout",
     "output_type": "stream",
     "text": [
      "['A082', 'B821', 'A461', 'A083', 'B818', 'B219', 'B439', 'A005', 'B341', 'A092', 'A901', 'B904']\n"
     ]
    }
   ],
   "source": [
    "customer_id = ['B818', 'A461', 'A092', \n",
    "                'A082', 'B341', 'A005', 'A092', 'A461',\n",
    "               'B219', 'B904', 'A901', 'A083', 'B904', 'A092', 'B341', \n",
    "               'B821','B341', 'B821', 'B904', 'B818', \n",
    "               'A901', 'A083', 'B818', 'A082','B219', 'B219', \n",
    "               'A083', 'A901', 'A082', 'B341', 'B341', 'A083',\n",
    "               'A082', 'B219', 'B439', 'A461', 'A005', \n",
    "               'A901', 'B341', 'A082','A083', 'A461', 'A083', 'A901', 'A461', 'A083', \n",
    "               'A082', 'A083','B341', 'A901', \n",
    "               'A082', 'A461', 'B219', 'A083', 'B818', 'B821','A092', \n",
    "               'B341', 'A461', 'A092', 'A083', 'B821', 'A092']\n",
    "unique_values = list(set(customer_id))\n",
    "print(unique_values)"
   ]
  },
  {
   "cell_type": "code",
   "execution_count": 4,
   "metadata": {},
   "outputs": [
    {
     "name": "stdout",
     "output_type": "stream",
     "text": [
      "12\n"
     ]
    }
   ],
   "source": [
    "print (len(unique_values))"
   ]
  },
  {
   "cell_type": "markdown",
   "metadata": {},
   "source": [
    "Task #2 \n",
    "given list of "
   ]
  },
  {
   "cell_type": "code",
   "execution_count": 11,
   "metadata": {},
   "outputs": [
    {
     "name": "stdout",
     "output_type": "stream",
     "text": [
      "16\n",
      "[36, 49, 64, 81]\n"
     ]
    }
   ],
   "source": [
    "Data = [1,4,9,16,25,36,49,64,81,100]\n",
    "\n",
    "print (Data[3])\n",
    "print (Data[5:9])"
   ]
  },
  {
   "cell_type": "code",
   "execution_count": 12,
   "metadata": {},
   "outputs": [
    {
     "name": "stdout",
     "output_type": "stream",
     "text": [
      "[100, 81, 64, 49, 36, 25, 16, 9, 4, 1]\n"
     ]
    }
   ],
   "source": [
    "Data =[1,4,9,16,25,36,49,64,81,100]\n",
    "\n",
    "Data.reverse()\n",
    "print (Data)"
   ]
  },
  {
   "cell_type": "markdown",
   "metadata": {},
   "source": [
    "#Task 3"
   ]
  },
  {
   "cell_type": "code",
   "execution_count": 7,
   "metadata": {},
   "outputs": [
    {
     "name": "stdout",
     "output_type": "stream",
     "text": [
      "dict_keys(['Nanggroe Aceh Darussalam', 'Sumatera Selatan', 'Kalimantan Barat', 'Jawa Timur', 'Sulawesi Selatan', 'Maluku'])\n"
     ]
    }
   ],
   "source": [
    "provinsi = {'Nanggroe Aceh Darussalam': 'Aceh','Sumatera Selatan': 'Palembang','Kalimantan Barat': 'Pontianak','Jawa Timur': 'Madiun','Sulawesi Selatan': 'Makassar','Maluku': 'Ambon'}\n",
    "print(provinsi.keys())"
   ]
  },
  {
   "cell_type": "code",
   "execution_count": 8,
   "metadata": {},
   "outputs": [
    {
     "name": "stdout",
     "output_type": "stream",
     "text": [
      "{'Nanggroe Aceh Darussalam': 'Aceh', 'Sumatera Selatan': 'Palembang', 'Kalimantan Barat': 'Pontianak', 'Jawa Timur': 'Surabaya', 'Sulawesi Selatan': 'Makassar', 'Maluku': 'Ambon'}\n"
     ]
    }
   ],
   "source": [
    "provinsi = {'Nanggroe Aceh Darussalam': 'Aceh','Sumatera Selatan': 'Palembang','Kalimantan Barat': 'Pontianak','Jawa Timur': 'Madiun','Sulawesi Selatan': 'Makassar','Maluku': 'Ambon'}\n",
    "provinsi ['Jawa Timur']='Surabaya'\n",
    "print(provinsi)"
   ]
  }
 ],
 "metadata": {
  "kernelspec": {
   "display_name": "base",
   "language": "python",
   "name": "python3"
  },
  "language_info": {
   "codemirror_mode": {
    "name": "ipython",
    "version": 3
   },
   "file_extension": ".py",
   "mimetype": "text/x-python",
   "name": "python",
   "nbconvert_exporter": "python",
   "pygments_lexer": "ipython3",
   "version": "3.11.7"
  }
 },
 "nbformat": 4,
 "nbformat_minor": 2
}
