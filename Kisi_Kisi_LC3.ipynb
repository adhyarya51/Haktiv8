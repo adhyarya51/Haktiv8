{
  "nbformat": 4,
  "nbformat_minor": 0,
  "metadata": {
    "colab": {
      "provenance": [],
      "include_colab_link": true
    },
    "kernelspec": {
      "name": "python3",
      "display_name": "Python 3"
    },
    "language_info": {
      "name": "python"
    }
  },
  "cells": [
    {
      "cell_type": "markdown",
      "metadata": {
        "id": "view-in-github",
        "colab_type": "text"
      },
      "source": [
        "<a href=\"https://colab.research.google.com/github/adhyarya51/Python-setup/blob/main/Kisi_Kisi_LC3.ipynb\" target=\"_parent\"><img src=\"https://colab.research.google.com/assets/colab-badge.svg\" alt=\"Open In Colab\"/></a>"
      ]
    },
    {
      "cell_type": "markdown",
      "source": [
        "Perusahaan peminjaman sepeda di San Fransisco memintamu untuk menganalisa durasi perjalanan customer mereka. Untuk memudahkan analisa, lakukan hal-hal berikut ini:\n",
        "\n",
        "## **STATISTIK DESKRIPTIF**\n",
        "\n",
        "1. Lakukan perhitungan central tendency (mean, median, dan modus).\n",
        "2. Lakukan pengecekan dispersi (standar deviasi, variance, dan range).\n",
        "3. Lakukan pengecekan skewness dan kurtosis.\n",
        "3. Analisa apakah ada data outlier berdasarkan sebaran datanya.\n",
        "4. Cari tahu berapa persentase outlier terhadap data keseluruhan.\n",
        "5. Bagaimana perubahan pemusatan data sebelum dan sesudah penghapusan outlier?\n",
        "\n",
        "## **API**\n",
        "\n",
        "Buatlah API untuk:\n",
        "- `Menampilkan` seluruh entry data setelah dilakukan handling outlier.\n",
        "- `Menghapus` entry data, dari data yang telah dihandling outlier.\n",
        "\n",
        "clue:\n",
        "- Load data csv yang sudah diolah dengan pandas, kemudian konversi data ke dictionary `df.to_dict()` atau json `df.to_json()` untuk dapat diolah lebih lanjut dengan API menggunakan FastAPI.\n",
        "- Pembuatan API dilakukan pada script `.py`\n",
        "- Endpoint dan penamaan function pada API dibebaskan.\n",
        "\n",
        "\n",
        "---\n",
        "\n",
        "\n",
        "\n",
        "Data dapat diakses dari BigQuery dengan ketentuan:\n",
        "\n",
        "- Project_id: `bigquery-public-data`\n",
        "- Dataset: `san_francisco_bikeshare`\n",
        "- Table: `bikeshare_trips`\n",
        "- Ambil hanya kolom `duration_sec` saja\n",
        "- Berikan LIMIT pada data yang diambil sebesar 3000 entry data\n",
        "\n",
        "Koneksikan data di atas menggunakan `BigQuery` ke Google Colab dengan code berikut:\n",
        "```py\n",
        "from google.colab import auth\n",
        "from google.cloud import bigquery\n",
        "auth.authenticate_user()\n",
        "print('Authenticated')\n",
        "\n",
        "  project_id = \"rock-wonder-317907\" #GUNAKAN GCP PROJECT-ID KALIAN MASING-MASING\n",
        "client = bigquery.Client(project=project_id)\n",
        "```\n",
        "\n",
        "Untuk melakukan Query menggunakan cara ini, kamu dapat menggunakan method `client.query('Masukkan Querynya').to_dataframe()`. Outputnya akan berupa Pandas dataframe, sehingga harus import Pandas.\n",
        "\n",
        "Contoh:\n",
        "\n",
        "```py\n",
        "df = client.query('''\n",
        "SELECT *\n",
        "FROM `bigquery-public-data.thelook_ecommerce.orders`\n",
        "WHERE created_at < \"2022-07-01\"\n",
        "ORDER BY year,month ASC\n",
        "''').to_dataframe()\n",
        "```\n",
        "\n"
      ],
      "metadata": {
        "id": "e0E_A5aDbO7r"
      }
    },
    {
      "cell_type": "code",
      "source": [
        "from google.colab import auth\n",
        "from google.cloud import bigquery\n",
        "auth.authenticate_user()\n",
        "print('Authenticated')\n",
        "\n",
        "project_id = \"civil-clarity-417802\" #GUNAKAN GCP PROJECT-ID KALIAN MASING-MASING\n",
        "client = bigquery.Client(project=project_id)"
      ],
      "metadata": {
        "colab": {
          "base_uri": "https://localhost:8080/"
        },
        "id": "fWhUkaEuFhWA",
        "outputId": "ffe2f41c-34c4-4a38-a14f-b5e9a749f4d1"
      },
      "execution_count": 2,
      "outputs": [
        {
          "output_type": "stream",
          "name": "stdout",
          "text": [
            "Authenticated\n"
          ]
        }
      ]
    },
    {
      "cell_type": "code",
      "source": [
        "df = client.query('''\n",
        "SELECT duration_sec\n",
        "FROM `bigquery-public-data.san_francisco_bikeshare.bikeshare_trips`\n",
        "limit 3000\n",
        "''').to_dataframe()"
      ],
      "metadata": {
        "id": "G31-aJESHz0O"
      },
      "execution_count": 3,
      "outputs": []
    },
    {
      "cell_type": "code",
      "source": [
        "df"
      ],
      "metadata": {
        "colab": {
          "base_uri": "https://localhost:8080/",
          "height": 424
        },
        "id": "icSbMWn7IKEk",
        "outputId": "3fcf7f18-e1b0-4329-d261-7cb50a890218"
      },
      "execution_count": 5,
      "outputs": [
        {
          "output_type": "execute_result",
          "data": {
            "text/plain": [
              "      duration_sec\n",
              "0             2189\n",
              "1              865\n",
              "2              488\n",
              "3              501\n",
              "4              471\n",
              "...            ...\n",
              "2995         11013\n",
              "2996           539\n",
              "2997           857\n",
              "2998           430\n",
              "2999           597\n",
              "\n",
              "[3000 rows x 1 columns]"
            ],
            "text/html": [
              "\n",
              "  <div id=\"df-ecb22abd-1e64-4b56-8dfe-7ce7db03d2d5\" class=\"colab-df-container\">\n",
              "    <div>\n",
              "<style scoped>\n",
              "    .dataframe tbody tr th:only-of-type {\n",
              "        vertical-align: middle;\n",
              "    }\n",
              "\n",
              "    .dataframe tbody tr th {\n",
              "        vertical-align: top;\n",
              "    }\n",
              "\n",
              "    .dataframe thead th {\n",
              "        text-align: right;\n",
              "    }\n",
              "</style>\n",
              "<table border=\"1\" class=\"dataframe\">\n",
              "  <thead>\n",
              "    <tr style=\"text-align: right;\">\n",
              "      <th></th>\n",
              "      <th>duration_sec</th>\n",
              "    </tr>\n",
              "  </thead>\n",
              "  <tbody>\n",
              "    <tr>\n",
              "      <th>0</th>\n",
              "      <td>2189</td>\n",
              "    </tr>\n",
              "    <tr>\n",
              "      <th>1</th>\n",
              "      <td>865</td>\n",
              "    </tr>\n",
              "    <tr>\n",
              "      <th>2</th>\n",
              "      <td>488</td>\n",
              "    </tr>\n",
              "    <tr>\n",
              "      <th>3</th>\n",
              "      <td>501</td>\n",
              "    </tr>\n",
              "    <tr>\n",
              "      <th>4</th>\n",
              "      <td>471</td>\n",
              "    </tr>\n",
              "    <tr>\n",
              "      <th>...</th>\n",
              "      <td>...</td>\n",
              "    </tr>\n",
              "    <tr>\n",
              "      <th>2995</th>\n",
              "      <td>11013</td>\n",
              "    </tr>\n",
              "    <tr>\n",
              "      <th>2996</th>\n",
              "      <td>539</td>\n",
              "    </tr>\n",
              "    <tr>\n",
              "      <th>2997</th>\n",
              "      <td>857</td>\n",
              "    </tr>\n",
              "    <tr>\n",
              "      <th>2998</th>\n",
              "      <td>430</td>\n",
              "    </tr>\n",
              "    <tr>\n",
              "      <th>2999</th>\n",
              "      <td>597</td>\n",
              "    </tr>\n",
              "  </tbody>\n",
              "</table>\n",
              "<p>3000 rows × 1 columns</p>\n",
              "</div>\n",
              "    <div class=\"colab-df-buttons\">\n",
              "\n",
              "  <div class=\"colab-df-container\">\n",
              "    <button class=\"colab-df-convert\" onclick=\"convertToInteractive('df-ecb22abd-1e64-4b56-8dfe-7ce7db03d2d5')\"\n",
              "            title=\"Convert this dataframe to an interactive table.\"\n",
              "            style=\"display:none;\">\n",
              "\n",
              "  <svg xmlns=\"http://www.w3.org/2000/svg\" height=\"24px\" viewBox=\"0 -960 960 960\">\n",
              "    <path d=\"M120-120v-720h720v720H120Zm60-500h600v-160H180v160Zm220 220h160v-160H400v160Zm0 220h160v-160H400v160ZM180-400h160v-160H180v160Zm440 0h160v-160H620v160ZM180-180h160v-160H180v160Zm440 0h160v-160H620v160Z\"/>\n",
              "  </svg>\n",
              "    </button>\n",
              "\n",
              "  <style>\n",
              "    .colab-df-container {\n",
              "      display:flex;\n",
              "      gap: 12px;\n",
              "    }\n",
              "\n",
              "    .colab-df-convert {\n",
              "      background-color: #E8F0FE;\n",
              "      border: none;\n",
              "      border-radius: 50%;\n",
              "      cursor: pointer;\n",
              "      display: none;\n",
              "      fill: #1967D2;\n",
              "      height: 32px;\n",
              "      padding: 0 0 0 0;\n",
              "      width: 32px;\n",
              "    }\n",
              "\n",
              "    .colab-df-convert:hover {\n",
              "      background-color: #E2EBFA;\n",
              "      box-shadow: 0px 1px 2px rgba(60, 64, 67, 0.3), 0px 1px 3px 1px rgba(60, 64, 67, 0.15);\n",
              "      fill: #174EA6;\n",
              "    }\n",
              "\n",
              "    .colab-df-buttons div {\n",
              "      margin-bottom: 4px;\n",
              "    }\n",
              "\n",
              "    [theme=dark] .colab-df-convert {\n",
              "      background-color: #3B4455;\n",
              "      fill: #D2E3FC;\n",
              "    }\n",
              "\n",
              "    [theme=dark] .colab-df-convert:hover {\n",
              "      background-color: #434B5C;\n",
              "      box-shadow: 0px 1px 3px 1px rgba(0, 0, 0, 0.15);\n",
              "      filter: drop-shadow(0px 1px 2px rgba(0, 0, 0, 0.3));\n",
              "      fill: #FFFFFF;\n",
              "    }\n",
              "  </style>\n",
              "\n",
              "    <script>\n",
              "      const buttonEl =\n",
              "        document.querySelector('#df-ecb22abd-1e64-4b56-8dfe-7ce7db03d2d5 button.colab-df-convert');\n",
              "      buttonEl.style.display =\n",
              "        google.colab.kernel.accessAllowed ? 'block' : 'none';\n",
              "\n",
              "      async function convertToInteractive(key) {\n",
              "        const element = document.querySelector('#df-ecb22abd-1e64-4b56-8dfe-7ce7db03d2d5');\n",
              "        const dataTable =\n",
              "          await google.colab.kernel.invokeFunction('convertToInteractive',\n",
              "                                                    [key], {});\n",
              "        if (!dataTable) return;\n",
              "\n",
              "        const docLinkHtml = 'Like what you see? Visit the ' +\n",
              "          '<a target=\"_blank\" href=https://colab.research.google.com/notebooks/data_table.ipynb>data table notebook</a>'\n",
              "          + ' to learn more about interactive tables.';\n",
              "        element.innerHTML = '';\n",
              "        dataTable['output_type'] = 'display_data';\n",
              "        await google.colab.output.renderOutput(dataTable, element);\n",
              "        const docLink = document.createElement('div');\n",
              "        docLink.innerHTML = docLinkHtml;\n",
              "        element.appendChild(docLink);\n",
              "      }\n",
              "    </script>\n",
              "  </div>\n",
              "\n",
              "\n",
              "<div id=\"df-cbf99d52-29e0-4ed6-83d0-74b2d7113bd4\">\n",
              "  <button class=\"colab-df-quickchart\" onclick=\"quickchart('df-cbf99d52-29e0-4ed6-83d0-74b2d7113bd4')\"\n",
              "            title=\"Suggest charts\"\n",
              "            style=\"display:none;\">\n",
              "\n",
              "<svg xmlns=\"http://www.w3.org/2000/svg\" height=\"24px\"viewBox=\"0 0 24 24\"\n",
              "     width=\"24px\">\n",
              "    <g>\n",
              "        <path d=\"M19 3H5c-1.1 0-2 .9-2 2v14c0 1.1.9 2 2 2h14c1.1 0 2-.9 2-2V5c0-1.1-.9-2-2-2zM9 17H7v-7h2v7zm4 0h-2V7h2v10zm4 0h-2v-4h2v4z\"/>\n",
              "    </g>\n",
              "</svg>\n",
              "  </button>\n",
              "\n",
              "<style>\n",
              "  .colab-df-quickchart {\n",
              "      --bg-color: #E8F0FE;\n",
              "      --fill-color: #1967D2;\n",
              "      --hover-bg-color: #E2EBFA;\n",
              "      --hover-fill-color: #174EA6;\n",
              "      --disabled-fill-color: #AAA;\n",
              "      --disabled-bg-color: #DDD;\n",
              "  }\n",
              "\n",
              "  [theme=dark] .colab-df-quickchart {\n",
              "      --bg-color: #3B4455;\n",
              "      --fill-color: #D2E3FC;\n",
              "      --hover-bg-color: #434B5C;\n",
              "      --hover-fill-color: #FFFFFF;\n",
              "      --disabled-bg-color: #3B4455;\n",
              "      --disabled-fill-color: #666;\n",
              "  }\n",
              "\n",
              "  .colab-df-quickchart {\n",
              "    background-color: var(--bg-color);\n",
              "    border: none;\n",
              "    border-radius: 50%;\n",
              "    cursor: pointer;\n",
              "    display: none;\n",
              "    fill: var(--fill-color);\n",
              "    height: 32px;\n",
              "    padding: 0;\n",
              "    width: 32px;\n",
              "  }\n",
              "\n",
              "  .colab-df-quickchart:hover {\n",
              "    background-color: var(--hover-bg-color);\n",
              "    box-shadow: 0 1px 2px rgba(60, 64, 67, 0.3), 0 1px 3px 1px rgba(60, 64, 67, 0.15);\n",
              "    fill: var(--button-hover-fill-color);\n",
              "  }\n",
              "\n",
              "  .colab-df-quickchart-complete:disabled,\n",
              "  .colab-df-quickchart-complete:disabled:hover {\n",
              "    background-color: var(--disabled-bg-color);\n",
              "    fill: var(--disabled-fill-color);\n",
              "    box-shadow: none;\n",
              "  }\n",
              "\n",
              "  .colab-df-spinner {\n",
              "    border: 2px solid var(--fill-color);\n",
              "    border-color: transparent;\n",
              "    border-bottom-color: var(--fill-color);\n",
              "    animation:\n",
              "      spin 1s steps(1) infinite;\n",
              "  }\n",
              "\n",
              "  @keyframes spin {\n",
              "    0% {\n",
              "      border-color: transparent;\n",
              "      border-bottom-color: var(--fill-color);\n",
              "      border-left-color: var(--fill-color);\n",
              "    }\n",
              "    20% {\n",
              "      border-color: transparent;\n",
              "      border-left-color: var(--fill-color);\n",
              "      border-top-color: var(--fill-color);\n",
              "    }\n",
              "    30% {\n",
              "      border-color: transparent;\n",
              "      border-left-color: var(--fill-color);\n",
              "      border-top-color: var(--fill-color);\n",
              "      border-right-color: var(--fill-color);\n",
              "    }\n",
              "    40% {\n",
              "      border-color: transparent;\n",
              "      border-right-color: var(--fill-color);\n",
              "      border-top-color: var(--fill-color);\n",
              "    }\n",
              "    60% {\n",
              "      border-color: transparent;\n",
              "      border-right-color: var(--fill-color);\n",
              "    }\n",
              "    80% {\n",
              "      border-color: transparent;\n",
              "      border-right-color: var(--fill-color);\n",
              "      border-bottom-color: var(--fill-color);\n",
              "    }\n",
              "    90% {\n",
              "      border-color: transparent;\n",
              "      border-bottom-color: var(--fill-color);\n",
              "    }\n",
              "  }\n",
              "</style>\n",
              "\n",
              "  <script>\n",
              "    async function quickchart(key) {\n",
              "      const quickchartButtonEl =\n",
              "        document.querySelector('#' + key + ' button');\n",
              "      quickchartButtonEl.disabled = true;  // To prevent multiple clicks.\n",
              "      quickchartButtonEl.classList.add('colab-df-spinner');\n",
              "      try {\n",
              "        const charts = await google.colab.kernel.invokeFunction(\n",
              "            'suggestCharts', [key], {});\n",
              "      } catch (error) {\n",
              "        console.error('Error during call to suggestCharts:', error);\n",
              "      }\n",
              "      quickchartButtonEl.classList.remove('colab-df-spinner');\n",
              "      quickchartButtonEl.classList.add('colab-df-quickchart-complete');\n",
              "    }\n",
              "    (() => {\n",
              "      let quickchartButtonEl =\n",
              "        document.querySelector('#df-cbf99d52-29e0-4ed6-83d0-74b2d7113bd4 button');\n",
              "      quickchartButtonEl.style.display =\n",
              "        google.colab.kernel.accessAllowed ? 'block' : 'none';\n",
              "    })();\n",
              "  </script>\n",
              "</div>\n",
              "    </div>\n",
              "  </div>\n"
            ],
            "application/vnd.google.colaboratory.intrinsic+json": {
              "type": "dataframe",
              "variable_name": "df",
              "summary": "{\n  \"name\": \"df\",\n  \"rows\": 3000,\n  \"fields\": [\n    {\n      \"column\": \"duration_sec\",\n      \"properties\": {\n        \"dtype\": \"Int64\",\n        \"num_unique_values\": 1151,\n        \"samples\": [\n          \"1276\",\n          \"1037\",\n          \"388\"\n        ],\n        \"semantic_type\": \"\",\n        \"description\": \"\"\n      }\n    }\n  ]\n}"
            }
          },
          "metadata": {},
          "execution_count": 5
        }
      ]
    },
    {
      "cell_type": "markdown",
      "source": [
        "1. Lakukan perhitungan central tendency (mean, median, dan modus)."
      ],
      "metadata": {
        "id": "G-LkAhTLIS4A"
      }
    },
    {
      "cell_type": "code",
      "source": [
        "# Working area\n",
        "print('mean duration sec adalah:',df['duration_sec'].mean())\n",
        "print('median duration sec adalah:',df['duration_sec'].median())\n",
        "print('mode duration sec adalah:',df['duration_sec'].mode().values[0])"
      ],
      "metadata": {
        "id": "stLFk77dk8Ek",
        "colab": {
          "base_uri": "https://localhost:8080/"
        },
        "outputId": "2ccffd9e-f308-417b-a411-495d7751610f"
      },
      "execution_count": 6,
      "outputs": [
        {
          "output_type": "stream",
          "name": "stdout",
          "text": [
            "mean duration sec adalah: 802.835\n",
            "median duration sec adalah: 487.0\n",
            "mode duration sec adalah: 354\n"
          ]
        }
      ]
    },
    {
      "cell_type": "markdown",
      "source": [
        "2. Lakukan pengecekan dispersi (standar deviasi, variance, dan range)."
      ],
      "metadata": {
        "id": "1rMlSPb2IyvZ"
      }
    },
    {
      "cell_type": "code",
      "source": [
        "std = df['duration_sec'].std()\n",
        "print('Standard Deviation of duration_sec adalah:',std)\n",
        "\n",
        "variance = df['duration_sec'].var()\n",
        "print('Variance of duration_sec adalah:',variance)\n",
        "\n",
        "range = df['duration_sec'].max() - df['duration_sec'].min()\n",
        "print('Range duration_sec adalah:',range)"
      ],
      "metadata": {
        "colab": {
          "base_uri": "https://localhost:8080/"
        },
        "id": "eowUFeqWI3bD",
        "outputId": "fcfde15a-dafd-4346-91af-ccf4df8059a0"
      },
      "execution_count": 7,
      "outputs": [
        {
          "output_type": "stream",
          "name": "stdout",
          "text": [
            "Standard Deviation of duration_sec adalah: 2871.1038086657622\n",
            "Variance of duration_sec adalah: 8243237.080135046\n",
            "Range duration_sec adalah: 84541\n"
          ]
        }
      ]
    },
    {
      "cell_type": "markdown",
      "source": [
        "3. Lakukan pengecekan skewness dan kurtosis."
      ],
      "metadata": {
        "id": "fKIgD9oPJV1R"
      }
    },
    {
      "cell_type": "code",
      "source": [
        "print(f\"Skewness: {df['duration_sec'].skew()}\")\n",
        "\n",
        "print(f\"Kurtosis: {df['duration_sec'].kurtosis()}\")"
      ],
      "metadata": {
        "colab": {
          "base_uri": "https://localhost:8080/"
        },
        "id": "LGkbyh9qJZJx",
        "outputId": "b7cced3d-5e40-44b2-e624-5e55341c86c5"
      },
      "execution_count": 9,
      "outputs": [
        {
          "output_type": "stream",
          "name": "stdout",
          "text": [
            "Skewness: 19.615076327076103\n",
            "Kurtosis: 443.306257431049\n"
          ]
        }
      ]
    },
    {
      "cell_type": "markdown",
      "source": [
        "4. Analisa apakah ada data outlier berdasarkan sebaran datanya."
      ],
      "metadata": {
        "id": "DheWQySTJrkq"
      }
    },
    {
      "cell_type": "code",
      "source": [
        "# menghitung Q1,Q2,Q3,IQR\n",
        "\n",
        "q1 = df['duration_sec'].quantile(0.25)\n",
        "q3 = df['duration_sec'].quantile(0.75)\n",
        "iqr = q3-q1\n",
        "\n",
        "up_bound = q3 + 3*iqr    #dikali 3 karena extreme biasanya kayak gini --> # up_bound = q3 + 1.5*iqr\n",
        "low_bound = q1 - 3*iqr   #dikali 3 karena extreme biasanya kayak gini -->  # low_bound = q1 - 1.5*iqr\n",
        "\n",
        "print('Q1:',q1)\n",
        "print('Q3:',q3)\n",
        "print('Interquartile Range (IQR):',iqr)\n",
        "print(f'Upper Boundary: {up_bound:.2f}' )\n",
        "print(f'Lower Boundary: {low_bound:.2f}')"
      ],
      "metadata": {
        "colab": {
          "base_uri": "https://localhost:8080/"
        },
        "id": "IBS0nrbbJvJg",
        "outputId": "711386b2-b0fe-4019-f4de-7e81e6fedb75"
      },
      "execution_count": 10,
      "outputs": [
        {
          "output_type": "stream",
          "name": "stdout",
          "text": [
            "Q1: 313.0\n",
            "Q3: 770.0\n",
            "Interquartile Range (IQR): 457.0\n",
            "Upper Boundary: 2141.00\n",
            "Lower Boundary: -1058.00\n"
          ]
        }
      ]
    },
    {
      "cell_type": "markdown",
      "source": [
        "5. Cari tahu berapa persentase outlier terhadap data keseluruhan."
      ],
      "metadata": {
        "id": "yTHvhQL7J_zI"
      }
    },
    {
      "cell_type": "markdown",
      "source": [
        "menggunakan skew method (distribusi tidak normal)"
      ],
      "metadata": {
        "id": "Uwh5GZNlKJY6"
      }
    },
    {
      "cell_type": "code",
      "source": [
        "q1 = df['duration_sec'].quantile(0.25)\n",
        "q3 = df['duration_sec'].quantile(0.75)\n",
        "iqr = q3-q1\n",
        "\n",
        "up_bound = q3 + 3*iqr\n",
        "low_bound = q1 - 3*iqr\n",
        "\n",
        "print(f'Upper Boundary: {up_bound:.2f}' )\n",
        "print(f'Lower Boundary: {low_bound:.2f}')"
      ],
      "metadata": {
        "colab": {
          "base_uri": "https://localhost:8080/"
        },
        "id": "h76GSwhXKEce",
        "outputId": "c16d4233-9363-4e67-e7cb-bf2838a631e3"
      },
      "execution_count": 12,
      "outputs": [
        {
          "output_type": "stream",
          "name": "stdout",
          "text": [
            "Upper Boundary: 2141.00\n",
            "Lower Boundary: -1058.00\n"
          ]
        }
      ]
    },
    {
      "cell_type": "code",
      "source": [
        "# mencari outliers\n",
        "outlier = df['duration_sec'][(df['duration_sec']<low_bound) | (df['duration_sec']>up_bound)]\n",
        "\n",
        "# membuang outliers\n",
        "no_outlier = df['duration_sec'][(df['duration_sec']>=low_bound) & (df['duration_sec']<=up_bound)]\n",
        "\n",
        "# menghitung berapa persen outlier yg ada dari data keseluruhan\n",
        "print(f'Percentage of outliers: {len(outlier)*100/len(df[\"duration_sec\"]):.2f}%%')"
      ],
      "metadata": {
        "colab": {
          "base_uri": "https://localhost:8080/"
        },
        "id": "ahkJnPLHLVGf",
        "outputId": "1dcd9615-0352-4b6d-af22-acf462489380"
      },
      "execution_count": 13,
      "outputs": [
        {
          "output_type": "stream",
          "name": "stdout",
          "text": [
            "Percentage of outliers: 2.60%%\n"
          ]
        }
      ]
    },
    {
      "cell_type": "markdown",
      "source": [
        "6. Bagaimana perubahan pemusatan data sebelum dan sesudah penghapusan outlier?"
      ],
      "metadata": {
        "id": "HgFZi3jTLYdY"
      }
    },
    {
      "cell_type": "code",
      "source": [
        "df_cleaned = df[(df['duration_sec'] >= low_bound) & (df['duration_sec'] <= up_bound)]\n",
        "\n",
        "mean_after = df_cleaned['duration_sec'].mean()\n",
        "median_after = df_cleaned['duration_sec'].median()\n",
        "mode_after = df_cleaned['duration_sec'].mode()\n",
        "\n",
        "\n",
        "print(\"Mean Sebelum Penghapusan Outlier:\", df['duration_sec'].mean())\n",
        "print(\"Median Sebelum Penghapusan Outlier:\", df['duration_sec'].median())\n",
        "print(\"Mode Sebelum Penghapusan Outlier:\", df['duration_sec'].mode())\n",
        "print(\"Mean Setelah Penghapusan Outlier:\", mean_after)\n",
        "print(\"Median Setelah Penghapusan Outlier:\", median_after)\n",
        "print(\"Mode Setelah Penghapusan Outlier:\", mode_after)"
      ],
      "metadata": {
        "colab": {
          "base_uri": "https://localhost:8080/"
        },
        "id": "fXCM6aMmLh6W",
        "outputId": "ca1b1695-e47a-4cd0-9c7b-f422da0fb1db"
      },
      "execution_count": 16,
      "outputs": [
        {
          "output_type": "stream",
          "name": "stdout",
          "text": [
            "Mean Sebelum Penghapusan Outlier: 802.835\n",
            "Median Sebelum Penghapusan Outlier: 487.0\n",
            "Mode Sebelum Penghapusan Outlier: 0    354\n",
            "Name: duration_sec, dtype: Int64\n",
            "Mean Setelah Penghapusan Outlier: 572.1943874058863\n",
            "Median Setelah Penghapusan Outlier: 475.0\n",
            "Mode Setelah Penghapusan Outlier: 0    354\n",
            "Name: duration_sec, dtype: Int64\n"
          ]
        }
      ]
    }
  ]
}