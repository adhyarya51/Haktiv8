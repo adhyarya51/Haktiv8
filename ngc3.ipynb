{
 "cells": [
  {
   "cell_type": "code",
   "execution_count": null,
   "metadata": {},
   "outputs": [],
   "source": [
    "class book:\n",
    "    def __init__(self, title, author, identifier) :\n",
    "        self.title = title\n",
    "        self.author = author\n",
    "        self.id = identifier"
   ]
  },
  {
   "cell_type": "code",
   "execution_count": 2,
   "metadata": {},
   "outputs": [],
   "source": [
    "class Cart_Item:\n",
    "    def __init__(self, nama, harga) :\n",
    "        self.nama = nama \n",
    "        self.harga = harga\n",
    "        \n",
    "    def add_harga(self,harga):\n",
    "        self.harga.append(harga)\n",
    "        \n",
    "    \n",
    "        "
   ]
  }
 ],
 "metadata": {
  "kernelspec": {
   "display_name": "base",
   "language": "python",
   "name": "python3"
  },
  "language_info": {
   "codemirror_mode": {
    "name": "ipython",
    "version": 3
   },
   "file_extension": ".py",
   "mimetype": "text/x-python",
   "name": "python",
   "nbconvert_exporter": "python",
   "pygments_lexer": "ipython3",
   "version": "3.11.7"
  }
 },
 "nbformat": 4,
 "nbformat_minor": 2
}
