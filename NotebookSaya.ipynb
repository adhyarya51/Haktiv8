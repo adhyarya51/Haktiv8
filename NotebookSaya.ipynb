{
 "cells": [
  {
   "cell_type": "code",
   "execution_count": 78,
   "metadata": {},
   "outputs": [],
   "source": [
    "# fungsi tambah \n",
    "# .... kodingan terkait fungsi tambah ..."
   ]
  },
  {
   "cell_type": "markdown",
   "metadata": {},
   "source": [
    "### Tutorial Mengumpulkan Tugas \n"
   ]
  },
  {
   "cell_type": "markdown",
   "metadata": {},
   "source": [
    "1. Clone repository tugas dari SSH-nya dengan `git clone <url SSH>`\n",
    "2. Masukan file pengerjaan tugas ke dalam *cloned repo*\n",
    "3. **ATAU** kerjakan tugas langsung di dalam *cloned repo*\n",
    "\n",
    "mulai dari sini pastikan terminal ada di directory yang benar\n",
    "\n",
    "4. Setiap ada perubahan pada file lakukan `git add <nama_file>` **atau** `git add .`\n",
    "5. Gunakan `git status` untuk melihat file apa saja yang berubah. kalau warnanya merah berarti ada perubahan yang belum di *add*, sedangkan kalau hijau berarti perubahan sudah di *add*\n",
    "6. lakukan `git commit -m \"comment apa perubahannya\"` jika sudah yakin dengan perubahan yang dilakukan.\n",
    "7. bisa cek git status lagi\n",
    "8. lakukan `git push` untuk sinkronisasi dengan repo (upload)```\n",
    "8. lakukan git push untuk sinkronisasi dengan repo (upload)"
   ]
  },
  {
   "cell_type": "markdown",
   "metadata": {},
   "source": [
    "catatan tambahan \n",
    "\n",
    "'git init' untuk menerapkan teknologi git dalam project\n",
    "'git add.' untuk menerapkan perubahan/changes yyang sudah dilakukan\n",
    "'git commit' untuk menyimpan perubahaan yang sudah ditandain -> diperlukan pesan di commit\n",
    "'git push' "
   ]
  },
  {
   "cell_type": "markdown",
   "metadata": {},
   "source": [
    "percobaan masih belum berhasil, saya masih belum paham"
   ]
  },
  {
   "cell_type": "code",
   "execution_count": 79,
   "metadata": {},
   "outputs": [
    {
     "name": "stdout",
     "output_type": "stream",
     "text": [
      "123123123124\n"
     ]
    }
   ],
   "source": [
    "#integers \n",
    "\n",
    "print(123123123123+1)\n"
   ]
  },
  {
   "cell_type": "code",
   "execution_count": 80,
   "metadata": {},
   "outputs": [
    {
     "name": "stdout",
     "output_type": "stream",
     "text": [
      "10\n",
      "<class 'int'>\n"
     ]
    }
   ],
   "source": [
    "\n",
    "print(10)\n",
    "print(type(15))"
   ]
  },
  {
   "cell_type": "code",
   "execution_count": 81,
   "metadata": {},
   "outputs": [
    {
     "name": "stdout",
     "output_type": "stream",
     "text": [
      "4.2\n",
      "<class 'float'>\n",
      "4.0\n",
      "0.2\n",
      "4000000.0\n",
      "0.00042\n"
     ]
    }
   ],
   "source": [
    "#floating point\n",
    "\n",
    "print(4.2)\n",
    "print(type(4.2))\n",
    "\n",
    "print(4.)\n",
    "\n",
    "print(.2)\n",
    "\n",
    "print(.4e7)\n",
    "\n",
    "print(4.2e-4)"
   ]
  },
  {
   "cell_type": "code",
   "execution_count": 82,
   "metadata": {},
   "outputs": [
    {
     "name": "stdout",
     "output_type": "stream",
     "text": [
      "Hakctive 8\n",
      "<class 'str'>\n"
     ]
    }
   ],
   "source": [
    "#class string\n",
    "\n",
    "print(\"Hakctive 8\")\n",
    "print(type(\"Hacktive 8\"))"
   ]
  },
  {
   "cell_type": "code",
   "execution_count": 83,
   "metadata": {},
   "outputs": [
    {
     "name": "stdout",
     "output_type": "stream",
     "text": [
      "<class 'bool'>\n",
      "<class 'bool'>\n"
     ]
    }
   ],
   "source": [
    "#bolean type \n",
    "\n",
    "print(type(True))\n",
    "print(type(False))"
   ]
  },
  {
   "cell_type": "code",
   "execution_count": 84,
   "metadata": {},
   "outputs": [
    {
     "name": "stdout",
     "output_type": "stream",
     "text": [
      "5500\n",
      "1000\n",
      "500 500 500\n"
     ]
    }
   ],
   "source": [
    "#variable assignment\n",
    "\n",
    "n = 5500\n",
    "print(n)\n",
    "\n",
    "n\n",
    "\n",
    "n = 1000\n",
    "print(n)\n",
    "\n",
    "a = b = c = 500\n",
    "print(a,b,c)"
   ]
  },
  {
   "cell_type": "code",
   "execution_count": 85,
   "metadata": {},
   "outputs": [
    {
     "name": "stdout",
     "output_type": "stream",
     "text": [
      "23.5\n",
      "aku adalah bentuk string\n"
     ]
    }
   ],
   "source": [
    "#tipe variable di python\n",
    "\n",
    "var = 23.5\n",
    "print(var)\n",
    "\n",
    "var= \"aku adalah bentuk string\"\n",
    "print(var)"
   ]
  },
  {
   "cell_type": "code",
   "execution_count": 86,
   "metadata": {},
   "outputs": [
    {
     "name": "stdout",
     "output_type": "stream",
     "text": [
      "arya 29 True\n"
     ]
    }
   ],
   "source": [
    "#cara membentuk nama variable\n",
    "\n",
    "name = \"arya\"\n",
    "age = 29\n",
    "has_laptop = True\n",
    "print(name,age,has_laptop)"
   ]
  },
  {
   "cell_type": "code",
   "execution_count": 87,
   "metadata": {},
   "outputs": [
    {
     "data": {
      "text/plain": [
       "29"
      ]
     },
     "execution_count": 87,
     "metadata": {},
     "output_type": "execute_result"
    }
   ],
   "source": [
    "# operator and expresion\n",
    "\n",
    "a = 15 \n",
    "b = 20 \n",
    "a + b \n",
    "\n",
    "a = 10 \n",
    "b = 34\n",
    "a + b - 15"
   ]
  },
  {
   "cell_type": "code",
   "execution_count": 88,
   "metadata": {},
   "outputs": [
    {
     "name": "stdout",
     "output_type": "stream",
     "text": [
      "9\n",
      "1\n",
      "1.25\n",
      "1\n",
      "625\n"
     ]
    }
   ],
   "source": [
    "#perhitungan aritmatic\n",
    " \n",
    "a = 5\n",
    "b = 4 \n",
    "\n",
    "print(a + b)\n",
    "print(a - b)\n",
    "print(a / b)\n",
    "print(a % b)\n",
    "print(a **b)\n"
   ]
  },
  {
   "cell_type": "code",
   "execution_count": 89,
   "metadata": {},
   "outputs": [
    {
     "name": "stdout",
     "output_type": "stream",
     "text": [
      "False\n",
      "True\n",
      "True\n",
      "False\n",
      "False\n",
      "False\n",
      "True\n"
     ]
    }
   ],
   "source": [
    "#contoh dalam melakukan komparasi \n",
    "\n",
    "a = 5 \n",
    "b = 10 \n",
    "\n",
    "print(a == b )\n",
    "\n",
    "print(a != b)\n",
    "\n",
    "print(a <= b)\n",
    "\n",
    "print(a >= b)\n",
    "\n",
    "a = 20\n",
    "b = 10 \n",
    "\n",
    "print(a == b)\n",
    "\n",
    "print(a <= b)\n",
    "\n",
    "print(a >= b)"
   ]
  },
  {
   "cell_type": "code",
   "execution_count": 90,
   "metadata": {},
   "outputs": [
    {
     "name": "stdout",
     "output_type": "stream",
     "text": [
      " ayam bakar\n",
      " ayam goreng\n",
      " ayam bakar goreng\n",
      "ayam bakar\n",
      "True\n",
      "False\n",
      "Bebek panggang\n",
      "bebek panggang\n",
      "BEBEK PANGGANG\n",
      "Bebek Panggang\n",
      "BEBEK PANGGANG\n"
     ]
    }
   ],
   "source": [
    "#string manipulation\n",
    "\n",
    "# penambahan operator dahulu \n",
    "a = \" ayam\"\n",
    "b = \" bakar\"\n",
    "c = \" goreng\"\n",
    "\n",
    "print (a +b)\n",
    "\n",
    "print (a + c)\n",
    "\n",
    "print (a + b + c )\n",
    "\n",
    "print (\"ayam\"+\" bakar\")\n",
    "\n",
    "# (*)perkalian operator \n",
    "\n",
    "a = \" ayam\"\n",
    "\n",
    "a*5\n",
    "\n",
    "# in operators\n",
    "\n",
    "a = \" ayam\"\n",
    "\n",
    "print(a in \"aku kepingin makan ayam bakar\")\n",
    "print(a in \"aku kepingin makan bayam\")\n",
    "\n",
    "#case conversion \n",
    "\n",
    "a = \"bebek panggang\"\n",
    "\n",
    "#capitalize\n",
    "print(a.capitalize())\n",
    "\n",
    "#lower\n",
    "print(a.lower())\n",
    "\n",
    "#swapcase\n",
    "print(a.swapcase())\n",
    "\n",
    "#title\n",
    "print(a.title())\n",
    "\n",
    "#uppercase\n",
    "print(a.upper())"
   ]
  },
  {
   "cell_type": "code",
   "execution_count": 91,
   "metadata": {},
   "outputs": [
    {
     "name": "stdout",
     "output_type": "stream",
     "text": [
      "['buku belajar', 'buku motivasi', 'buku kitab', 'buku kerja']\n"
     ]
    }
   ],
   "source": [
    "#python list\n",
    "\n",
    "a = ['buku belajar', 'buku motivasi', 'buku kitab', 'buku kerja']\n",
    "\n",
    "print(a)"
   ]
  },
  {
   "cell_type": "code",
   "execution_count": 92,
   "metadata": {},
   "outputs": [
    {
     "data": {
      "text/plain": [
       "False"
      ]
     },
     "execution_count": 92,
     "metadata": {},
     "output_type": "execute_result"
    }
   ],
   "source": [
    "#list are ordered\n",
    "\n",
    "a = ['buku belajar', 'buku motivasi', 'buku kitab', 'buku kerja']\n",
    "b = ['buku catatan', 'buku motivasi', 'buku belajar', 'buku kerja']\n",
    "\n",
    "a == b"
   ]
  },
  {
   "cell_type": "code",
   "execution_count": 93,
   "metadata": {},
   "outputs": [
    {
     "name": "stdout",
     "output_type": "stream",
     "text": [
      "[20.2, 'buku kerja, 3 , 4, \"nilai\", false, 3.123']\n"
     ]
    }
   ],
   "source": [
    "#list can contain anyy assortment objects \n",
    "\n",
    "a = [20.2, 'buku kerja, 3 , 4, \"nilai\", false, 3.123']\n",
    "\n",
    "print (a)"
   ]
  },
  {
   "cell_type": "code",
   "execution_count": 94,
   "metadata": {},
   "outputs": [
    {
     "name": "stdout",
     "output_type": "stream",
     "text": [
      "buku kitab\n",
      "buku catatan\n",
      "buku coding\n",
      "buku belajar\n"
     ]
    },
    {
     "data": {
      "text/plain": [
       "['kitab', 'kerja', 'catatan']"
      ]
     },
     "execution_count": 94,
     "metadata": {},
     "output_type": "execute_result"
    }
   ],
   "source": [
    "#list element can be accesed by index\n",
    "\n",
    "a = ['buku belajar', 'buku motivasi', 'buku kitab', 'buku kerja','buku catatan','buku coding']\n",
    "\n",
    "print(a[2])\n",
    "print(a[4])\n",
    "\n",
    "print(a[-1])\n",
    "print(a[-6])\n",
    "\n",
    "#slicing dengan index \n",
    "\n",
    "a = ['belajar', 'motivasi', 'kitab', 'kerja','catatan','coding']\n",
    "a[2:5]\n",
    "\n"
   ]
  },
  {
   "cell_type": "code",
   "execution_count": 95,
   "metadata": {},
   "outputs": [
    {
     "name": "stdout",
     "output_type": "stream",
     "text": [
      "['belajar', 'motivasi', 'kitab', 'kerja', 'catatan', 'coding']\n",
      "['belajar', 'motivasi', 'kitab', 'kerja', 'catatan', 'coding', 'berenang', 'menyelam']\n",
      "['belajar', 'motivasi', 'kitab', 'kerja', 'catatan', 'coding', 'belajar', 'motivasi', 'kitab', 'kerja', 'catatan', 'coding']\n"
     ]
    }
   ],
   "source": [
    "#concatenation (+) and replication (*) operators :\n",
    "\n",
    "print(a)\n",
    "\n",
    "print(a +['berenang', 'menyelam'])\n",
    "print(a *2)"
   ]
  },
  {
   "cell_type": "code",
   "execution_count": 96,
   "metadata": {},
   "outputs": [
    {
     "name": "stdout",
     "output_type": "stream",
     "text": [
      "['belajar', 'motivasi', 'kitab', 'kerja', 'catatan', 'coding']\n",
      "6\n",
      "belajar\n",
      "motivasi\n"
     ]
    }
   ],
   "source": [
    "#pengertian len, min, max\n",
    "\n",
    "print (a)\n",
    "\n",
    "#len memanggil seluruh index didalam variabel dalam bentuk angka\n",
    "print(len(a))\n",
    "#min memanggil index didalam variabel dengan urutan paling awal/ \n",
    "#apabila angka nilai paling kecil\n",
    "print (min(a))\n",
    "#max \n",
    "#memanggil index didalam variabel dengan urutan paling akhir/\n",
    "#apabila angka diambil paling besar atau maksimal\n",
    "print (max(a))"
   ]
  },
  {
   "cell_type": "code",
   "execution_count": 97,
   "metadata": {},
   "outputs": [
    {
     "name": "stdout",
     "output_type": "stream",
     "text": [
      "['belajar', 'motivasi', 'kitab', 'kerja', 'catatan', 'coding']\n",
      "['belajar', 'motivasi', 'kadal', 'kerja', 'catatan', 'biawak']\n"
     ]
    }
   ],
   "source": [
    "#modifikasi nilai satu list\n",
    "\n",
    "a = ['belajar', 'motivasi', 'kitab', 'kerja','catatan','coding']\n",
    "\n",
    "print (a)\n",
    "\n",
    "a[2] = \"kadal\"\n",
    "a[-1] = \"biawak\"\n",
    "\n",
    "print (a)"
   ]
  },
  {
   "cell_type": "code",
   "execution_count": 98,
   "metadata": {},
   "outputs": [
    {
     "name": "stdout",
     "output_type": "stream",
     "text": [
      "['kitab', 'kerja', 'catatan']\n",
      "['belajar', 4, 3, 2, 1, 0, 'catatan', 'coding']\n"
     ]
    }
   ],
   "source": [
    "#modifikasi nilai dari berbagai list\n",
    "\n",
    "a = ['belajar', 'motivasi', 'kitab', 'kerja','catatan','coding']\n",
    "\n",
    "print(a[2:5])\n",
    "\n",
    "a[1:4] = [4,3,2,1,0]\n",
    "\n",
    "print(a)"
   ]
  },
  {
   "cell_type": "code",
   "execution_count": 99,
   "metadata": {},
   "outputs": [
    {
     "name": "stdout",
     "output_type": "stream",
     "text": [
      "('belajar', 'motivasi', 'kitab', 'kerja', 'catatan', 'coding')\n"
     ]
    }
   ],
   "source": [
    "#python tuples \n",
    "\n",
    "tuple = ('belajar', 'motivasi', 'kitab', 'kerja','catatan','coding')\n",
    "\n",
    "print (tuple)"
   ]
  },
  {
   "cell_type": "code",
   "execution_count": 100,
   "metadata": {},
   "outputs": [
    {
     "name": "stdout",
     "output_type": "stream",
     "text": [
      "kerja\n",
      "catatan\n"
     ]
    }
   ],
   "source": [
    "print (tuple[3])\n",
    "\n",
    "print (tuple[-2])"
   ]
  },
  {
   "cell_type": "code",
   "execution_count": 101,
   "metadata": {},
   "outputs": [
    {
     "data": {
      "text/plain": [
       "('motivasi', 'belajar', 'catatan', 'coding')"
      ]
     },
     "execution_count": 101,
     "metadata": {},
     "output_type": "execute_result"
    }
   ],
   "source": [
    "(w1,w2,w3,w4,w5,w6)=('belajar', 'motivasi', 'kitab', 'kerja','catatan','coding')\n",
    "\n",
    "w2, w1, w5,w6"
   ]
  },
  {
   "cell_type": "code",
   "execution_count": 102,
   "metadata": {},
   "outputs": [],
   "source": [
    "#pembentukan dictionary \n",
    "\n",
    "Kategori_Buku={\n",
    "    'buku sihir':'harry potter',\n",
    "    'buku terbang':'terbang indah di langit',\n",
    "    'buku motivasi': 'belajar sampai mati',\n",
    "    'buku catatan' : 'catatan ulang hari ke 3',\n",
    "    'buku coding': 'tips belajar python dalam seminggu'\n",
    "    }"
   ]
  },
  {
   "cell_type": "code",
   "execution_count": 103,
   "metadata": {},
   "outputs": [
    {
     "name": "stdout",
     "output_type": "stream",
     "text": [
      "harry potter\n",
      "terbang indah di langit\n"
     ]
    }
   ],
   "source": [
    "#mengakses dictionary values\n",
    "\n",
    "print(Kategori_Buku['buku sihir'])\n",
    "print(Kategori_Buku['buku terbang'])"
   ]
  },
  {
   "cell_type": "code",
   "execution_count": 104,
   "metadata": {},
   "outputs": [
    {
     "data": {
      "text/plain": [
       "{'buku sihir': 'harry potter',\n",
       " 'buku terbang': 'terbang indah di langit',\n",
       " 'buku motivasi': 'belajar sampai mati',\n",
       " 'buku catatan': 'catatan ulang hari ke 3',\n",
       " 'buku coding': 'tips belajar python dalam seminggu',\n",
       " 'buku belajar': 'paham singkat dalam belajar'}"
      ]
     },
     "execution_count": 104,
     "metadata": {},
     "output_type": "execute_result"
    }
   ],
   "source": [
    "#menambahkan kata dari dictionary yg sudah ada\n",
    "\n",
    "Kategori_Buku['buku belajar']= 'paham singkat dalam belajar'\n",
    "Kategori_Buku"
   ]
  },
  {
   "cell_type": "code",
   "execution_count": 105,
   "metadata": {},
   "outputs": [
    {
     "data": {
      "text/plain": [
       "{'buku sihir': 'harry potter',\n",
       " 'buku terbang': 'terbang indah di langit',\n",
       " 'buku motivasi': 'belajar sampai mati',\n",
       " 'buku catatan': 'catatan ulang hari ke 3',\n",
       " 'buku coding': 'tips belajar python dalam seminggu'}"
      ]
     },
     "execution_count": 105,
     "metadata": {},
     "output_type": "execute_result"
    }
   ],
   "source": [
    "#apabila menghapus list yang spesifik bisa dengan perintah \"del\"\n",
    "\n",
    "del Kategori_Buku['buku belajar']\n",
    "Kategori_Buku"
   ]
  },
  {
   "cell_type": "code",
   "execution_count": 106,
   "metadata": {},
   "outputs": [],
   "source": [
    "#pembuatan dictionary secara bertahap\n",
    "\n",
    "orang = {}\n",
    "type(orang)\n",
    "\n",
    "orang ['nama depan']= 'adhy arya'\n",
    "orang ['nama belakang'] = 'hendrata'\n",
    "orang ['umur'] = 29\n",
    "orang ['hobi'] = 'bulutangkis'\n",
    "orang ['peliharaan'] = ['manis', 'tampu','cookies','muffin']\n",
    "orang [ 'makan dan minuman favorite'] = {'makanan':\"ayam goreng\",\"minuman\":\"teh matcha\"}"
   ]
  },
  {
   "cell_type": "code",
   "execution_count": 107,
   "metadata": {},
   "outputs": [
    {
     "data": {
      "text/plain": [
       "{'nama depan': 'adhy arya',\n",
       " 'nama belakang': 'hendrata',\n",
       " 'umur': 29,\n",
       " 'hobi': 'bulutangkis',\n",
       " 'peliharaan': ['manis', 'tampu', 'cookies', 'muffin'],\n",
       " 'makan dan minuman favorite': {'makanan': 'ayam goreng',\n",
       "  'minuman': 'teh matcha'}}"
      ]
     },
     "execution_count": 107,
     "metadata": {},
     "output_type": "execute_result"
    }
   ],
   "source": [
    "orang"
   ]
  },
  {
   "cell_type": "code",
   "execution_count": 108,
   "metadata": {},
   "outputs": [
    {
     "name": "stdout",
     "output_type": "stream",
     "text": [
      "adhy arya\n",
      "hendrata\n"
     ]
    }
   ],
   "source": [
    "print(orang[\"nama depan\"])\n",
    "print(orang['nama belakang'])"
   ]
  },
  {
   "cell_type": "code",
   "execution_count": 109,
   "metadata": {},
   "outputs": [
    {
     "name": "stdout",
     "output_type": "stream",
     "text": [
      "['manis', 'tampu', 'cookies', 'muffin']\n",
      "muffin\n"
     ]
    }
   ],
   "source": [
    "print(orang['peliharaan'])\n",
    "print(orang['peliharaan'][3])"
   ]
  },
  {
   "cell_type": "code",
   "execution_count": 1,
   "metadata": {},
   "outputs": [
    {
     "name": "stdout",
     "output_type": "stream",
     "text": [
      "dict_items([('b', 10), ('c', 20), ('d', 30)])\n",
      "dict_keys(['b', 'c', 'd'])\n",
      "dict_values([10, 20, 30])\n"
     ]
    }
   ],
   "source": [
    "#build in methods \n",
    "a = {\"b\":10,\"c\":20,\"d\":30}\n",
    "\n",
    "#items\n",
    "print(a.items())\n",
    "\n",
    "#keys\n",
    "print(a.keys())\n",
    "\n",
    "#values \n",
    "print(a.values())"
   ]
  },
  {
   "cell_type": "code",
   "execution_count": 2,
   "metadata": {},
   "outputs": [
    {
     "name": "stdout",
     "output_type": "stream",
     "text": [
      "selamat pagi, dunia\n",
      "[1, 2, 3]\n"
     ]
    }
   ],
   "source": [
    "#python statement\n",
    "\n",
    "print(\"selamat pagi, dunia\")\n",
    "\n",
    "x=[1,2,3]\n",
    "print(x)"
   ]
  },
  {
   "cell_type": "code",
   "execution_count": 5,
   "metadata": {},
   "outputs": [
    {
     "data": {
      "text/plain": [
       "True"
      ]
     },
     "execution_count": 5,
     "metadata": {},
     "output_type": "execute_result"
    }
   ],
   "source": [
    "#dalam pembuatan line berkelanjutan ada dua type pembuatan yaitu : \n",
    "\n",
    "orang1_umur=29 \n",
    "orang2_umur=34\n",
    "orang3_umur=37\n",
    "\n",
    "orang_bekerja_pada_umur = (orang1_umur>= 18 and orang1_umur <=65)or(orang2_umur>=18 and orang2_umur<=65)or(orang3_umur>=18 and orang3_umur<=65)\n",
    "orang_bekerja_pada_umur\n",
    "\n"
   ]
  },
  {
   "cell_type": "code",
   "execution_count": 8,
   "metadata": {},
   "outputs": [
    {
     "data": {
      "text/plain": [
       "True"
      ]
     },
     "execution_count": 8,
     "metadata": {},
     "output_type": "execute_result"
    }
   ],
   "source": [
    "#atau bentuk lain dapat dijelaskan dalam bentuk \n",
    "\n",
    "orang_bekerja_pada_umur = (\n",
    "        (orang1_umur>= 18 and orang1_umur <=65)\n",
    "        or(orang2_umur>=18 and orang2_umur<=65)\n",
    "        or(orang3_umur>=18 and orang3_umur<=65))\n",
    "        \n",
    "orang_bekerja_pada_umur"
   ]
  },
  {
   "cell_type": "markdown",
   "metadata": {},
   "source": [
    "Pembatas"
   ]
  },
  {
   "cell_type": "markdown",
   "metadata": {},
   "source": [
    "condition and loop "
   ]
  },
  {
   "cell_type": "code",
   "execution_count": 12,
   "metadata": {},
   "outputs": [
    {
     "name": "stdout",
     "output_type": "stream",
     "text": [
      "after conditional\n",
      "tidak ada ayam di menu\n"
     ]
    }
   ],
   "source": [
    "#grouping statement\n",
    "\n",
    "if \"ayam\" in ['udang,daging,ikan']: \n",
    "    print ('expression was true')\n",
    "    print ('executing statement in suite')\n",
    "    print ('...')\n",
    "    print ('done.')\n",
    "    \n",
    "print ('after conditional')\n",
    "\n",
    "if \"ayam\" in ['udang,daging,ikan']:\n",
    "    print ('outer condition is true')\n",
    "else : \n",
    "    print ('tidak ada ayam di menu')"
   ]
  },
  {
   "cell_type": "code",
   "execution_count": 18,
   "metadata": {},
   "outputs": [
    {
     "name": "stdout",
     "output_type": "stream",
     "text": [
      "susu\n",
      "kopi\n"
     ]
    }
   ],
   "source": [
    "x = 2\n",
    "if x == 1: print('ayam'); print('ikan'); print('daging')\n",
    "elif x == 2: print('susu'); print('kopi')\n",
    "else: print('pilih menu yang ada'); print('tolong kembali ke awal')"
   ]
  },
  {
   "cell_type": "code",
   "execution_count": 22,
   "metadata": {},
   "outputs": [
    {
     "name": "stdout",
     "output_type": "stream",
     "text": [
      "pilih menu yang ada\n",
      "tolong kembali ke awal\n"
     ]
    }
   ],
   "source": [
    "#dengan visualisasi lebih baik \n",
    "\n",
    "x = 3 \n",
    "\n",
    "if x == 1 : \n",
    "    print ('ayam')\n",
    "    print ('ikan')\n",
    "    print ('daging')\n",
    "elif x == 2 :\n",
    "    print ('susu')\n",
    "    print ('kopi')\n",
    "else : \n",
    "    print ('pilih menu yang ada')\n",
    "    print ('tolong kembali ke awal')\n"
   ]
  },
  {
   "cell_type": "code",
   "execution_count": 25,
   "metadata": {},
   "outputs": [
    {
     "name": "stdout",
     "output_type": "stream",
     "text": [
      "ayo pergi ke pantai\n"
     ]
    }
   ],
   "source": [
    "#conditional expression \n",
    "\n",
    "hujan = False\n",
    "print ('ayo pergi ke', 'pantai' if not hujan else 'perpustakaan')"
   ]
  },
  {
   "cell_type": "code",
   "execution_count": 26,
   "metadata": {},
   "outputs": [
    {
     "name": "stdout",
     "output_type": "stream",
     "text": [
      "ayo pergi ke perpustakaan\n"
     ]
    }
   ],
   "source": [
    "#tipe kondisi yang lain \n",
    "\n",
    "hujan = True\n",
    "print ('ayo pergi ke', 'pantai'if not hujan else 'perpustakaan')"
   ]
  },
  {
   "cell_type": "code",
   "execution_count": 28,
   "metadata": {},
   "outputs": [
    {
     "data": {
      "text/plain": [
       "'adult'"
      ]
     },
     "execution_count": 28,
     "metadata": {},
     "output_type": "execute_result"
    }
   ],
   "source": [
    "#tipe kondisi umur\n",
    "\n",
    "umur = 29 \n",
    "x = \"adult\"  if umur >21  else \"teen\"\n",
    "\n",
    "x"
   ]
  },
  {
   "cell_type": "code",
   "execution_count": 29,
   "metadata": {},
   "outputs": [
    {
     "data": {
      "text/plain": [
       "'no'"
      ]
     },
     "execution_count": 29,
     "metadata": {},
     "output_type": "execute_result"
    }
   ],
   "source": [
    "'yes' if ('ayam' in ['daging', 'ikan', 'udang']) else 'no'"
   ]
  },
  {
   "cell_type": "markdown",
   "metadata": {},
   "source": [
    "python while loop"
   ]
  },
  {
   "cell_type": "code",
   "execution_count": 37,
   "metadata": {},
   "outputs": [
    {
     "name": "stdout",
     "output_type": "stream",
     "text": [
      "9876543210"
     ]
    }
   ],
   "source": [
    "n = 10 \n",
    "\n",
    "while n > 0 : \n",
    "    n -= 1 \n",
    "    print (n, end= '')"
   ]
  },
  {
   "cell_type": "code",
   "execution_count": 42,
   "metadata": {},
   "outputs": [
    {
     "name": "stdout",
     "output_type": "stream",
     "text": [
      "10 11 12 13 14 15 16 17 18 19 "
     ]
    }
   ],
   "source": [
    "i = 10\n",
    "\n",
    "\n",
    "while i < 20 : \n",
    "    print (i, end= ' ')\n",
    "    i += 1 "
   ]
  },
  {
   "cell_type": "markdown",
   "metadata": {},
   "source": [
    "pthon break and continue statetment"
   ]
  }
 ],
 "metadata": {
  "kernelspec": {
   "display_name": "base",
   "language": "python",
   "name": "python3"
  },
  "language_info": {
   "codemirror_mode": {
    "name": "ipython",
    "version": 3
   },
   "file_extension": ".py",
   "mimetype": "text/x-python",
   "name": "python",
   "nbconvert_exporter": "python",
   "pygments_lexer": "ipython3",
   "version": "3.11.7"
  }
 },
 "nbformat": 4,
 "nbformat_minor": 2
}
