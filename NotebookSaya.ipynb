{
 "cells": [
  {
   "cell_type": "code",
   "execution_count": 2,
   "metadata": {},
   "outputs": [],
   "source": [
    "# fungsi tambah \n",
    "# .... kodingan terkait fungsi tambah ..."
   ]
  },
  {
   "cell_type": "markdown",
   "metadata": {},
   "source": [
    "### Tutorial Mengumpulkan Tugas \n"
   ]
  },
  {
   "cell_type": "markdown",
   "metadata": {},
   "source": [
    "1. Clone repository tugas dari SSH-nya dengan `git clone <url SSH>`\n",
    "2. Masukan file pengerjaan tugas ke dalam *cloned repo*\n",
    "3. **ATAU** kerjakan tugas langsung di dalam *cloned repo*\n",
    "\n",
    "mulai dari sini pastikan terminal ada di directory yang benar\n",
    "\n",
    "4. Setiap ada perubahan pada file lakukan `git add <nama_file>` **atau** `git add .`\n",
    "5. Gunakan `git status` untuk melihat file apa saja yang berubah. kalau warnanya merah berarti ada perubahan yang belum di *add*, sedangkan kalau hijau berarti perubahan sudah di *add*\n",
    "6. lakukan `git commit -m \"comment apa perubahannya\"` jika sudah yakin dengan perubahan yang dilakukan.\n",
    "7. bisa cek git status lagi\n",
    "8. lakukan `git push` untuk sinkronisasi dengan repo (upload)```\n",
    "8. lakukan git push untuk sinkronisasi dengan repo (upload)"
   ]
  },
  {
   "cell_type": "markdown",
   "metadata": {},
   "source": [
    "catatan tambahan "
   ]
  }
 ],
 "metadata": {
  "kernelspec": {
   "display_name": "base",
   "language": "python",
   "name": "python3"
  },
  "language_info": {
   "codemirror_mode": {
    "name": "ipython",
    "version": 3
   },
   "file_extension": ".py",
   "mimetype": "text/x-python",
   "name": "python",
   "nbconvert_exporter": "python",
   "pygments_lexer": "ipython3",
   "version": "3.11.7"
  }
 },
 "nbformat": 4,
 "nbformat_minor": 2
}
